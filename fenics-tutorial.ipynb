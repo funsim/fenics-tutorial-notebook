{
 "cells": [
  {
   "cell_type": "markdown",
   "metadata": {
    "collapsed": false,
    "slideshow": {
     "slide_type": "slide"
    }
   },
   "source": [
    "\n",
    "<center>\n",
    "<h1>An introduction to FEniCS</h1>\n",
    "<br/>\n",
    "Simon Funke\n",
    "<br/>\n",
    "<br/>\n",
    "<img src='fenics_logo.png' alt='Scaling test'  width='200'>\n",
    "\n",
    "<br/>\n",
    "<br/>\n",
    "12th October 2016, UNISA Symposium\n",
    "\n",
    "</center>"
   ]
  },
  {
   "cell_type": "code",
   "execution_count": 1,
   "metadata": {
    "collapsed": false,
    "slideshow": {
     "slide_type": "skip"
    }
   },
   "outputs": [],
   "source": [
    "%matplotlib inline"
   ]
  },
  {
   "cell_type": "markdown",
   "metadata": {
    "slideshow": {
     "slide_type": "subslide"
    }
   },
   "source": [
    "# Contents\n",
    "\n",
    "* What is FEniCS?\n",
    "* `Hello world` for scientific computing\n",
    "* Complex Patterns in a simple system - the Gray-Scott equations\n",
    "* Installation and getting started"
   ]
  },
  {
   "cell_type": "markdown",
   "metadata": {
    "slideshow": {
     "slide_type": "slide"
    }
   },
   "source": [
    "# What is FEniCS?"
   ]
  },
  {
   "cell_type": "markdown",
   "metadata": {
    "slideshow": {
     "slide_type": "subslide"
    }
   },
   "source": [
    "## FEniCS is an automated programming environment for differential equations\n",
    "<center>\n",
    "<img src='fenics_webpage.png' alt='Scaling test'  width='800'>\n",
    "http://fenicsproject.org/\n",
    "</center>\n",
    "\n",
    "* C++/Python library\n",
    "* Initiated 2003 in Chicago\n",
    "* 1000–2000 monthly downloads\n",
    "* Licensed under the GNU LGPL"
   ]
  },
  {
   "cell_type": "markdown",
   "metadata": {
    "collapsed": true,
    "slideshow": {
     "slide_type": "subslide"
    }
   },
   "source": [
    "## Collaborators\n",
    "\n",
    "* Simula Research Laboratory\n",
    "* University of Cambridge\n",
    "* University of Chicago\n",
    "* Texas Tech University\n",
    "* KTH Royal Institute of Technology \n",
    "* Chalmers University of Technology\n",
    "* Imperial College London\n",
    "* University of Oxford\n",
    "* Charles University in Prague\n",
    "* ..."
   ]
  },
  {
   "cell_type": "markdown",
   "metadata": {
    "slideshow": {
     "slide_type": "subslide"
    }
   },
   "source": [
    "## What is FEniCS being used for?"
   ]
  },
  {
   "cell_type": "markdown",
   "metadata": {
    "slideshow": {
     "slide_type": "fragment"
    }
   },
   "source": [
    "*Some more PDEs that we have solved*:\n",
    "\n",
    "Burgers, \n",
    "Navier-Stokes,\n",
    "Stokes + mantle rheology,\n",
    "Stokes + ice rheology,\n",
    "Saint Venant + wetting/drying,\n",
    "Cahn-Hilliard,\n",
    "Gray-Scott,\n",
    "Shallow ice,\n",
    "Blatter-Pattyn,\n",
    "Quasi-geostrophic,\n",
    "Viscoelasticity,\n",
    "Gross-Pitaevskii,\n",
    "Yamabe,\n",
    "Image registration,\n",
    "Bidomain"
   ]
  },
  {
   "cell_type": "markdown",
   "metadata": {
    "slideshow": {
     "slide_type": "subslide"
    }
   },
   "source": [
    "## Thanks to code generation, FEniCS code can \n",
    "\n",
    "* be readable\n",
    "* scale with mathematical complexity\n",
    "* be high-performant\n",
    "\n",
    "<center><img src='compiler.svg' alt='Compiler'  width='800'></center>"
   ]
  },
  {
   "cell_type": "markdown",
   "metadata": {
    "slideshow": {
     "slide_type": "subslide"
    }
   },
   "source": [
    "## FEniCS code can be readable and scale with mathematical complexity\n",
    "<center><img src='stokes1.png' alt='Compiler'  width='1024'></center>"
   ]
  },
  {
   "cell_type": "markdown",
   "metadata": {
    "slideshow": {
     "slide_type": "subslide"
    }
   },
   "source": [
    "## FEniCS provides a wide range of (mixed) finite element spaces\n",
    "<center><img src='stokes2.png' alt='Compiler'  width='1024'></center>"
   ]
  },
  {
   "cell_type": "markdown",
   "metadata": {
    "slideshow": {
     "slide_type": "subslide"
    }
   },
   "source": [
    "## FEniCS provides an expressive form language close to mathematical syntax\n",
    "<center><img src='stokes3.png' alt='Compiler'  width='1024'></center>"
   ]
  },
  {
   "cell_type": "markdown",
   "metadata": {
    "slideshow": {
     "slide_type": "subslide"
    }
   },
   "source": [
    "## FEniCS can be high-performant"
   ]
  },
  {
   "cell_type": "markdown",
   "metadata": {},
   "source": [
    "<center><img src='richardsonwellsarcherscaling.svg' alt='Scaling test'  width='900'>\n",
    "<small>Authors: Chris N. Richardson, Garth Wells<br/> https://figshare.com/articles/Parallel_scaling_of_DOLFIN_on_ARCHER/1304537</center></small>\n"
   ]
  },
  {
   "cell_type": "markdown",
   "metadata": {
    "slideshow": {
     "slide_type": "slide"
    }
   },
   "source": [
    "## The *Hello world* for scientific computing in FEniCS"
   ]
  },
  {
   "cell_type": "markdown",
   "metadata": {},
   "source": [
    "We want to solve the Poisson problem\n",
    "\n",
    "Find u which solves \n",
    "\n",
    "\\begin{align*}\n",
    "- \\Delta u = f && \\text{ in } \\Omega \\\\\n",
    "u = u_0 && \\text{ on } \\partial \\Omega\n",
    "\\end{align*}\n",
    "with $u_0 = 1 + x^2 + 2y^2$ and $f=6$."
   ]
  },
  {
   "cell_type": "markdown",
   "metadata": {
    "slideshow": {
     "slide_type": "fragment"
    }
   },
   "source": [
    "The Poisson equation arises in:\n",
    "* heat conduction, electrostatics, diffusion of substances, twisting of elastic rods, inviscid fluid flow, water waves, magnetostatics\n",
    "* as part of numerical splitting strategies of more complicated systems of PDEs, in particular the Navier–Stokes equations"
   ]
  },
  {
   "cell_type": "markdown",
   "metadata": {
    "slideshow": {
     "slide_type": "subslide"
    }
   },
   "source": [
    "## The Finite Element Method in four steps\n",
    "<center><img src='fem_steps.png' alt='FEM steps'  width='800'>\n",
    "</center>"
   ]
  },
  {
   "cell_type": "markdown",
   "metadata": {
    "slideshow": {
     "slide_type": "subslide"
    }
   },
   "source": [
    "## Solving a PDE in FEniCS\n",
    "Solving a physical problem with FEniCS consists of the\n",
    "following steps:\n",
    "\n",
    "1. Identify the PDE and its boundary conditions\n",
    "2. Reformulate the PDE problem as a variational problem\n",
    "3. Make a Python program where the formulas in the variational problem are coded, along with definitions of input data such as $f$ , $u_0$ and a mesh for $\\Omega$.\n",
    "4. Add statements in the program for solving the variational problem, computing derived quantities such as $\\nabla u$, and visualizing the results"
   ]
  },
  {
   "cell_type": "markdown",
   "metadata": {
    "slideshow": {
     "slide_type": "subslide"
    }
   },
   "source": [
    "## Step 1: Deriving the variational formulation\n",
    "\n",
    "The simple recipe is: multiply the PDE by a test function $v$ and\n",
    "integrate over $\\Omega$:\n",
    "\\begin{equation*}\n",
    "-\\int_\\Omega (\\Delta u)v \\text{d}x = \\int_\\Omega fv\\text{d}x\n",
    "\\end{equation*}"
   ]
  },
  {
   "cell_type": "markdown",
   "metadata": {
    "slideshow": {
     "slide_type": "fragment"
    }
   },
   "source": [
    "Then integrate by parts and set $v = 0$ on the Dirichlet boundary:\n",
    "\n",
    "\\begin{equation*}\n",
    "-\\int_\\Omega (\\Delta u) v \\text{d}x\n",
    "= \\int_\\Omega \\nabla u\\cdot\\nabla v\\text{d}x -\n",
    "\\underbrace{\\int_{\\partial\\Omega} \\frac{\\partial u}{\\partial n} v\\text{d}s}_{\\color{red}{=0}}\n",
    "\\end{equation*}"
   ]
  },
  {
   "cell_type": "markdown",
   "metadata": {
    "slideshow": {
     "slide_type": "fragment"
    }
   },
   "source": [
    "We find that:\n",
    "\\begin{equation*}\n",
    "\\int_\\Omega\\nabla u\\cdot\\nabla v\\text{d}x = \\int_\\Omega fv\\text{d}x\n",
    "\\end{equation*}"
   ]
  },
  {
   "cell_type": "markdown",
   "metadata": {
    "slideshow": {
     "slide_type": "subslide"
    }
   },
   "source": [
    "## Canonical variational problem\n",
    "  The following canonical notation is used in FEniCS: find\n",
    "  $u \\in V$ such that\n",
    "  \\begin{equation*}\n",
    "    a(u, v) = L(v)\n",
    "  \\end{equation*}\n",
    "  for all $v \\in \\hat{V}$"
   ]
  },
  {
   "cell_type": "markdown",
   "metadata": {
    "slideshow": {
     "slide_type": "fragment"
    }
   },
   "source": [
    "  For Poisson's equation, we have\n",
    "  \\begin{align*}\n",
    "    a(u, v) &= \\int_{\\Omega} \\nabla u \\cdot \\nabla v \\text{d}x\n",
    "    \\\\\n",
    "    L(v) &= \\int_{\\Omega} fv \\text{d}x\n",
    "  \\end{align*}"
   ]
  },
  {
   "cell_type": "markdown",
   "metadata": {
    "slideshow": {
     "slide_type": "fragment"
    }
   },
   "source": [
    "  $a(u, v)$ is a **bilinear form** and $L(v)$ is a **linear form**."
   ]
  },
  {
   "cell_type": "markdown",
   "metadata": {
    "slideshow": {
     "slide_type": "subslide"
    }
   },
   "source": [
    "## Implementation in FEniCS"
   ]
  },
  {
   "cell_type": "code",
   "execution_count": null,
   "metadata": {
    "collapsed": false,
    "slideshow": {
     "slide_type": "fragment"
    }
   },
   "outputs": [],
   "source": [
    "from fenics import *\n",
    "# Create mesh and define function space\n",
    "mesh = UnitSquareMesh(32, 32)\n",
    "V = FunctionSpace(mesh, 'P', 1)\n",
    "\n",
    "# Define boundary condition\n",
    "u_D = Expression('1 + x[0]*x[0] + 2*x[1]*x[1]', degree=2)\n",
    "\n",
    "def boundary(x, on_boundary):\n",
    "    return on_boundary\n",
    "\n",
    "bc = DirichletBC(V, u_D, boundary)\n",
    "\n",
    "# Define variational problem\n",
    "u = TrialFunction(V)\n",
    "v = TestFunction(V)\n",
    "f = Constant(-9.0)\n",
    "a = dot(grad(u), grad(v))*dx\n",
    "L = f*v*dx\n",
    "\n",
    "# Compute solution\n",
    "u = Function(V)\n",
    "solve(a == L, u, bc)\n",
    "\n",
    "# Plot solution\n",
    "plot(u)"
   ]
  },
  {
   "cell_type": "markdown",
   "metadata": {
    "slideshow": {
     "slide_type": "subslide"
    }
   },
   "source": [
    "## Step by step: the first line\n",
    "\n",
    "  The first line of a FEniCS program usually begins with\n",
    "\n",
    "```python\n",
    "from fenics import *\n",
    "```\n",
    "\n",
    "This imports key classes like **UnitSquareMesh**, **FunctionSpace**,\n",
    "**Function** and so forth, from the FEniCS user interface\n",
    "(DOLFIN)\n"
   ]
  },
  {
   "cell_type": "markdown",
   "metadata": {
    "slideshow": {
     "slide_type": "subslide"
    }
   },
   "source": [
    "## Step by step: Creating a mesh\n",
    "\n",
    "Next, we create a mesh of our domain $\\Omega$:\n",
    "\n",
    "```python\n",
    "mesh = UnitSquareMesh(8, 8)\n",
    "```\n",
    "This defines a mesh of $8 \\times 8 \\times 2 = 128$ triangles of the\n",
    "unit square."
   ]
  },
  {
   "cell_type": "markdown",
   "metadata": {
    "slideshow": {
     "slide_type": "fragment"
    }
   },
   "source": [
    "Other useful classes for creating built-in meshes include\n",
    "* UnitIntervalMesh\n",
    "* UnitCubeMesh\n",
    "* UnitCircleMesh\n",
    "* UnitSphereMesh\n",
    "* RectangleMesh\n",
    "* BoxMesh"
   ]
  },
  {
   "cell_type": "markdown",
   "metadata": {
    "slideshow": {
     "slide_type": "subslide"
    }
   },
   "source": [
    "## Step by step: Creating more complex meshes\n",
    "\n",
    "More complex geometries can be built using Constructive Solid\n",
    "Geometry (CSG) through the FEniCS component **mshr**:"
   ]
  },
  {
   "cell_type": "code",
   "execution_count": null,
   "metadata": {
    "collapsed": false,
    "slideshow": {
     "slide_type": "fragment"
    }
   },
   "outputs": [],
   "source": [
    "from mshr import *\n",
    "r = Rectangle(Point(0.5, 0.5), Point(3.5, 1.5))\n",
    "c = Circle(Point(1.0, 1.0), 0.2)\n",
    "g = r - c\n",
    "mesh = generate_mesh(g, 20)\n",
    "plot(mesh)"
   ]
  },
  {
   "cell_type": "markdown",
   "metadata": {
    "slideshow": {
     "slide_type": "subslide"
    }
   },
   "source": [
    "## Step by step: Loading external meshes\n",
    "\n",
    "Meshes created with external software (for example **Gmsh** can be converted into FEniCS own mesh formated with:\n",
    "```bash\n",
    "dolfin-convert dolfin.msh dolfin.xml.gz\n",
    "```\n",
    "and loaded with"
   ]
  },
  {
   "cell_type": "code",
   "execution_count": null,
   "metadata": {
    "collapsed": false
   },
   "outputs": [],
   "source": [
    "mesh = Mesh(\"dolfin.xml.gz\")\n",
    "plot(mesh)"
   ]
  },
  {
   "cell_type": "markdown",
   "metadata": {
    "slideshow": {
     "slide_type": "subslide"
    }
   },
   "source": [
    "## Step by step: Creating a function space\n",
    "\n",
    "  The following line creates a finite element function space relative to this mesh:\n",
    "\n",
    "```python\n",
    "V = FunctionSpace(mesh, \"Lagrange\", 1)\n",
    "```"
   ]
  },
  {
   "cell_type": "markdown",
   "metadata": {
    "slideshow": {
     "slide_type": "-"
    }
   },
   "source": [
    "  The second argument specifies the type of element, while the third\n",
    "  argument is the degree of the basis functions on the element"
   ]
  },
  {
   "cell_type": "markdown",
   "metadata": {
    "slideshow": {
     "slide_type": "fragment"
    }
   },
   "source": [
    "Other types of elements include\n",
    "* `\"Discontinuous Lagrange\"`\n",
    "* `\"Brezzi-Douglas-Marini\"`\n",
    "* `\"Raviart-Thomas\"`\n",
    "* `\"Crouzeix-Raviart\"`\n",
    "* `\"Nedelec 1st kind H(curl)\"`\n",
    "* `\"Nedelec 2nd kind H(curl)\"`"
   ]
  },
  {
   "cell_type": "markdown",
   "metadata": {
    "slideshow": {
     "slide_type": "subslide"
    }
   },
   "source": [
    "## Step by step: defining expressions\n",
    "\n",
    "Next, we define an expression for the boundary value:\n",
    "```python\n",
    "u0 = Expression(\"1 + x[0]*x[0] + 2*x[1]*x[1]\", degree=2)\n",
    "```\n",
    "The formula must be written in C++ syntax, and\n",
    "the polynomial degree must be specified."
   ]
  },
  {
   "cell_type": "markdown",
   "metadata": {
    "slideshow": {
     "slide_type": "fragment"
    }
   },
   "source": [
    "The **Expression** class is very flexible and can be used to\n",
    "create complex user-defined expressions. For more information, try\n",
    "```python\n",
    "from fenics import *\n",
    "help(Expression)\n",
    "```\n",
    "in Python or, in the shell:\n",
    "```bash\n",
    "$ pydoc fenics.Expression\n",
    "```"
   ]
  },
  {
   "cell_type": "markdown",
   "metadata": {
    "slideshow": {
     "slide_type": "subslide"
    }
   },
   "source": [
    "## Step by step: defining a boundary condition\n",
    "\n",
    "The following code defines a Dirichlet boundary condition:\n",
    "```python\n",
    "bc = DirichletBC(V, u0, \"on_boundary\")\n",
    "```\n",
    "\n",
    "This boundary condition states that a function in the function space\n",
    "defined by **V** should be equal to **u0** on the domain defined\n",
    "by **\"on_boundary\"**\n",
    "\n",
    "Note that the above line does not yet apply the boundary condition\n",
    "to all functions in the function space."
   ]
  },
  {
   "cell_type": "markdown",
   "metadata": {
    "slideshow": {
     "slide_type": "subslide"
    }
   },
   "source": [
    "## Step by step: more about defining domains\n",
    "For a Dirichlet boundary condition, a simple domain can be defined\n",
    "by a string\n",
    "```python\n",
    "\"on_boundary\" # The entire boundary\n",
    "```"
   ]
  },
  {
   "cell_type": "markdown",
   "metadata": {
    "slideshow": {
     "slide_type": "fragment"
    }
   },
   "source": [
    "Alternatively, domains can be defined by subclassing **SubDomain**:\n",
    "```python\n",
    "class Boundary(SubDomain):\n",
    "def inside(self, x, on_boundary):\n",
    "    return on_boundary\n",
    "```"
   ]
  },
  {
   "cell_type": "markdown",
   "metadata": {
    "slideshow": {
     "slide_type": "fragment"
    }
   },
   "source": [
    "There are many more possibilities, see\n",
    "```python\n",
    "help(SubDomain)\n",
    "help(DirichletBC)\n",
    "```"
   ]
  },
  {
   "cell_type": "markdown",
   "metadata": {
    "slideshow": {
     "slide_type": "subslide"
    }
   },
   "source": [
    "## Step by step: defining the right-hand side\n",
    "\n",
    "The right-hand side $f = - 6$ may be defined as follows:\n",
    "```python\n",
    "f = Expression(\"-6.0\", degree=0)\n",
    "```"
   ]
  },
  {
   "cell_type": "markdown",
   "metadata": {
    "collapsed": true,
    "slideshow": {
     "slide_type": "fragment"
    }
   },
   "source": [
    "or (more efficiently) as\n",
    "```python\n",
    "f = Constant(-6.0)\n",
    "```"
   ]
  },
  {
   "cell_type": "markdown",
   "metadata": {
    "slideshow": {
     "slide_type": "subslide"
    }
   },
   "source": [
    "## Step by step: defining variational problems\n",
    "\n",
    "Variational problems are defined in terms of **trial** and\n",
    "**test** functions:\n",
    "\n",
    "```python\n",
    "u = TrialFunction(V)\n",
    "v = TestFunction(V)\n",
    "```"
   ]
  },
  {
   "cell_type": "markdown",
   "metadata": {
    "collapsed": true,
    "slideshow": {
     "slide_type": "fragment"
    }
   },
   "source": [
    "We now have all the objects we need in order to specify the bilinear\n",
    "form **a(u,v)** and the linear form **L(v)**:\n",
    "\n",
    "```python\n",
    "a = inner(grad(u), grad(v))*dx\n",
    "L = f*v*dx\n",
    "```"
   ]
  },
  {
   "cell_type": "markdown",
   "metadata": {
    "slideshow": {
     "slide_type": "subslide"
    }
   },
   "source": [
    "## Step by step: solving variational problems\n",
    "\n",
    "Once a variational problem has been defined, it may be solved\n",
    "by calling the `solve` function:\n",
    "\n",
    "```python\n",
    "u = Function(V)\n",
    "solve(a == L, u, bc)\n",
    "```"
   ]
  },
  {
   "cell_type": "markdown",
   "metadata": {
    "slideshow": {
     "slide_type": "fragment"
    }
   },
   "source": [
    "Note the reuse of the variable name *u* as both a *TrialFunction*\n",
    "in the variational problem and a *Function* to store the solution."
   ]
  },
  {
   "cell_type": "markdown",
   "metadata": {
    "slideshow": {
     "slide_type": "subslide"
    }
   },
   "source": [
    "## Step by step: post-processing"
   ]
  },
  {
   "cell_type": "markdown",
   "metadata": {
    "slideshow": {
     "slide_type": "fragment"
    }
   },
   "source": [
    "The solution and the mesh may be plotted by simply calling:\n",
    "```python\n",
    "plot(u)\n",
    "pylab.show()\n",
    "plot(mesh)\n",
    "pylab.show()\n",
    "```"
   ]
  },
  {
   "cell_type": "markdown",
   "metadata": {
    "slideshow": {
     "slide_type": "fragment"
    }
   },
   "source": [
    "For postprocessing in ParaView or MayaVi, store the solution in VTK\n",
    "format:\n",
    "```python\n",
    "file = File(\"poisson.pvd\")\n",
    "file << u\n",
    "```"
   ]
  },
  {
   "cell_type": "markdown",
   "metadata": {
    "slideshow": {
     "slide_type": "slide"
    }
   },
   "source": [
    "## Fun break - Welcome to the FEniCS Twitter Bot\n",
    "\n",
    "<center>\n",
    "<img src='fenicsbot.png' alt='Twitter FEniCS bot'  width='1024'>\n",
    "https://twitter.com/fenicsbot\n",
    "</center>"
   ]
  },
  {
   "cell_type": "markdown",
   "metadata": {
    "slideshow": {
     "slide_type": "slide"
    }
   },
   "source": [
    "## Complex Patterns in a simple system - the Gray-Scott equations"
   ]
  },
  {
   "cell_type": "markdown",
   "metadata": {
    "slideshow": {
     "slide_type": "subslide"
    }
   },
   "source": [
    "## Can we model patterns that occur in nature?\n",
    "\n",
    "<center>\n",
    "<img src='zebra.jpg' alt='Zebra: Source wikipedia'  width='500'>\n",
    "<img src='butterfly.jpg' alt='Zebra: Source wikipedia'  width='500'>\n",
    "</center>"
   ]
  },
  {
   "cell_type": "markdown",
   "metadata": {
    "slideshow": {
     "slide_type": "subslide"
    }
   },
   "source": [
    "## Implementation of the Gray-Scott equations\n",
    "\n",
    "The Gray-Scott equations are:                                                                                                  \n",
    "\n",
    "\\begin{equation}                                                                                                                                                                                            \n",
    "\\begin{aligned}                                                                                                                                                                                             \n",
    "\\frac{\\partial u}{\\partial t} & = D_u \\Delta u - u v^2 + F(1-u), \\\\                                                                                                                                       \n",
    "\\frac{\\partial v}{\\partial t} & = D_v \\Delta v + u v^2 - (F+k)v,                                                                                                                                          \n",
    "\\end{aligned}                                                                                                                                           \n",
    "\\end{equation}                                                                                                                                                                                              \n",
    "where $u$ and $v$ are the two unknowns, $D_u$ and $D_v$ are the diffusion coefficients, $k$ is the rate constant of the second reaction and $F$ the feed rate.      "
   ]
  },
  {
   "cell_type": "markdown",
   "metadata": {
    "slideshow": {
     "slide_type": "fragment"
    }
   },
   "source": [
    "**New challenges:** This is a time-dependent, coupled, non-linear PDE!"
   ]
  },
  {
   "cell_type": "markdown",
   "metadata": {
    "slideshow": {
     "slide_type": "subslide"
    }
   },
   "source": [
    "## The solution pattern varies depending on the choice of `k` and `F` \n",
    "\n",
    "<center>\n",
    "<img src='gray_scott_solutions.png' alt='Zebra: Source wikipedia'  width='500'>\n",
    "<small>From: *The (unfinished) PDE coffee table book, chapter 22*</small>\n",
    "</center>"
   ]
  },
  {
   "cell_type": "markdown",
   "metadata": {
    "slideshow": {
     "slide_type": "subslide"
    }
   },
   "source": [
    "## Step by step: Discretization in time.\n",
    "\n",
    "We choose to discretize the backward Euler. Given the solution $u_0, v_0$ at the time $t$, we\n",
    "can compute at time $t+ts$ with:\n",
    "\n",
    "\\begin{equation}                                                                                                                                                                                            \n",
    "\\begin{aligned}                                                                                                                                                                                             \n",
    "\\frac{u - u_0}{ts} & = D_u \\nabla^2 u - u v^2 + F(1-u), \\\\                                                                                                                                       \n",
    "\\frac{v - v_0}{ts} & = D_v \\nabla^2 v + u v^2 - (F+k)v,                                                                                                                                          \n",
    "\\end{aligned}                                                                                                                                           \n",
    "\\end{equation}   "
   ]
  },
  {
   "cell_type": "markdown",
   "metadata": {
    "slideshow": {
     "slide_type": "fragment"
    }
   },
   "source": [
    "At each time step, we now have a non-timedependent PDE for which we can use FEniCS!"
   ]
  },
  {
   "cell_type": "markdown",
   "metadata": {
    "slideshow": {
     "slide_type": "subslide"
    }
   },
   "source": [
    "## Step by step: Derivation of the weak-formulation\n",
    "\n",
    "We multiply the first equation with test functions $p$ and the second equation with $q$ and integrate over the domain:\n",
    "\n",
    "\\begin{equation}                                                                                                                                                                                            \n",
    "\\begin{aligned}                                                                                                                                                                                             \n",
    "\\int_\\Omega \\frac{u - u_0}{ts} p \\text{d} x & = \\int_\\Omega D_u \\Delta up - u v^2p+ F(1-u) p \\text{d}x, \\\\                                                                                                       \n",
    "\\int_\\Omega \\frac{v - v_0}{ts} q \\text{d} x& = \\int_\\Omega D_v \\Delta vq + u v^2q - (F+k)v q\\text{d}x.                                                                                                                              \n",
    "\\end{aligned}                                                                                                                                           \n",
    "\\end{equation}  "
   ]
  },
  {
   "cell_type": "markdown",
   "metadata": {
    "slideshow": {
     "slide_type": "fragment"
    }
   },
   "source": [
    "Next, we integrate by parts the terms with second order derivatives:\n",
    "\\begin{equation}                                                                                                                                                                                            \n",
    "\\begin{aligned}                                                                                                                                                                                             \n",
    "\\int_\\Omega \\frac{u - u_0}{ts} p \\text{d} x & =  \\int_\\Omega - D_u \\nabla u \\cdot \\nabla p - u v^2 p + F(1-u) p \\text{d}x, \\\\                                                                                                       \n",
    "\\int_\\Omega \\frac{v - v_0}{ts} q \\text{d} x& = \\int_\\Omega - D_v \\nabla v \\cdot \\nabla q + u v^2 q- (F+k)vq\\text{d}x.                                                                                                                              \n",
    "\\end{aligned}                                                                                                                                           \n",
    "\\end{equation}  "
   ]
  },
  {
   "cell_type": "markdown",
   "metadata": {
    "slideshow": {
     "slide_type": "subslide"
    }
   },
   "source": [
    "## Step by step: Canonical form for nonlinear variational problems\n",
    "\n",
    "The following canonical notation is used in FEniCS for (possibly)\n",
    "nonlinear problems:\n",
    "\n",
    "  Find $z \\in Z$ such that\n",
    "  \\begin{equation*}\n",
    "    F(z; q) = 0\n",
    "  \\end{equation*}\n",
    "  for all testfunctions $q$.\n",
    "\n",
    "**Note**:\n",
    "Here, $z$ is a function, and $q$ is a test function, and so $F$ is a **linear form**."
   ]
  },
  {
   "cell_type": "markdown",
   "metadata": {
    "slideshow": {
     "slide_type": "subslide"
    }
   },
   "source": [
    "## Step by step: Canonical form for Gray-Scott equations\n",
    "\n",
    "The functions are $z = (u, v)$, $q = (p, q)$ and the form $F$ is\n",
    "\\begin{equation*}\n",
    "\\begin{split}\n",
    "F(z; q) =\n",
    "\\int_\\Omega \\frac{u - u_0}{ts} p \\text{d} x & +  \\int_\\Omega  D_u \\nabla u \\cdot \\nabla p + u v^2 p - F(1-u) p \\text{d}x +\\\\                                                                                                    \n",
    "\\int_\\Omega \\frac{v - v_0}{ts} q \\text{d} x& + \\int_\\Omega D_v \\nabla v \\cdot \\nabla q - u v^2 q + (F+k)vq\\text{d}x. \n",
    "\\end{split}\n",
    "\\end{equation*}"
   ]
  },
  {
   "cell_type": "markdown",
   "metadata": {
    "slideshow": {
     "slide_type": "fragment"
    }
   },
   "source": [
    "The FEniCS implementation is almost a 1-1 copy of the maths:\n",
    "```python\n",
    "F = (((u - u0)/ts)*p * dx + \n",
    "     Du * inner(grad(u), grad(p)) * dx +\n",
    "     u*v*v*p * dx - \n",
    "     Fr * (1-u)*p * dx +\n",
    "     ((v - v0)/ts)*q* dx + \n",
    "     Dv * inner(grad(v), grad(q)) * dx -\n",
    "     u*v*v*q * dx + \n",
    "     (k+Fr)*v*q * dx)\n",
    "```"
   ]
  },
  {
   "cell_type": "markdown",
   "metadata": {},
   "source": [
    "##  Step by step: creating mixed function spaces\n",
    "\n",
    "Mixed elements are created by taking the product of more basic elements\n",
    "```python\n",
    "P1 = FiniteElement(\"Lagrange\", triangle, 1)\n",
    "P1P1 = P1 * P1\n",
    "Z = FunctionSpace(mesh, P1P1)\n",
    "```\n",
    "\n",
    "You can define functions on mixed spaces and split into components:\n",
    "```python\n",
    "z = Function(Z)\n",
    "(u, v) = split(z)\n",
    "```\n",
    "... and arguments:\n",
    "```python\n",
    "(p, q) = TestFunctions(Z)\n",
    "```"
   ]
  },
  {
   "cell_type": "markdown",
   "metadata": {},
   "source": [
    "## Step by step: solving (nonlinear) variational problems\n",
    "\n",
    "Once a variational problem has been defined, it may be solved\n",
    "by calling the *solve* function (as for linear problems):\n",
    "```python\n",
    "solve(F == 0, z, bc)\n",
    "```\n",
    "\n"
   ]
  },
  {
   "cell_type": "markdown",
   "metadata": {
    "slideshow": {
     "slide_type": "subslide"
    }
   },
   "source": [
    "# Implementation"
   ]
  },
  {
   "cell_type": "code",
   "execution_count": 3,
   "metadata": {
    "collapsed": false,
    "slideshow": {
     "slide_type": "-"
    }
   },
   "outputs": [
    {
     "name": "stdout",
     "output_type": "stream",
     "text": [
      "Calling FFC just-in-time (JIT) compiler, this may take some time.\n",
      "Calling FFC just-in-time (JIT) compiler, this may take some time.\n",
      "Timelevel  0.0\n",
      "Timelevel  50.0\n",
      "Timelevel  100.0\n",
      "Timelevel  150.0\n",
      "Timelevel  200.0\n",
      "Timelevel  250.0\n",
      "Timelevel  300.0\n",
      "Timelevel  350.0\n",
      "Timelevel  400.0\n",
      "Timelevel  450.0\n",
      "Timelevel  500.0\n",
      "Timelevel  550.0\n",
      "Timelevel  600.0\n",
      "Timelevel  650.0\n",
      "Timelevel  700.0\n",
      "Timelevel  750.0\n",
      "Timelevel  800.0\n",
      "Timelevel  850.0\n",
      "Timelevel  900.0\n",
      "Timelevel  950.0\n",
      "Timelevel  1000.0\n",
      "Timelevel  1050.0\n",
      "Timelevel  1100.0\n",
      "Timelevel  1150.0\n",
      "Timelevel  1200.0\n",
      "Timelevel  1250.0\n",
      "Timelevel  1300.0\n",
      "Timelevel  1350.0\n",
      "Timelevel  1400.0\n",
      "Timelevel  1450.0\n",
      "Timelevel  1500.0\n",
      "Timelevel  1550.0\n",
      "Timelevel  1600.0\n",
      "Timelevel  1650.0\n",
      "Timelevel  1700.0\n",
      "Timelevel  1750.0\n",
      "Timelevel  1800.0\n",
      "Timelevel  1850.0\n",
      "Timelevel  1900.0\n",
      "Timelevel  1950.0\n"
     ]
    },
    {
     "data": {
      "text/plain": [
       "<matplotlib.collections.PolyCollection at 0x7f3975b77950>"
      ]
     },
     "execution_count": 3,
     "metadata": {},
     "output_type": "execute_result"
    },
    {
     "data": {
      "image/png": "[encoded data removed]",
      "text/plain": [
       "<matplotlib.figure.Figure at 0x7f39780fbb90>"
      ]
     },
     "metadata": {},
     "output_type": "display_data"
    }
   ],
   "source": [
    "from dolfin import *\n",
    "import random\n",
    "t = 0. # Initial time\n",
    "T = 2000. # Final time\n",
    "ts = 10. # Timestep\n",
    "\n",
    "# Define the discretisation settings\n",
    "n = 64; d = 2.5\n",
    "mesh = RectangleMesh(Point(0.0, 0.0), Point(d, d), n, n)\n",
    "\n",
    "P1 = FiniteElement(\"Lagrange\", triangle, 1)\n",
    "P1P1 = P1 * P1\n",
    "Z = FunctionSpace(mesh, P1P1)\n",
    "p, q = TestFunctions(Z)\n",
    "\n",
    "# Set the initial condition\n",
    "class RandExpression(Expression):\n",
    "    def eval(self, value, x):\n",
    "        if abs(x[0] - d/2) <= 0.1 and abs(x[1] - d/2) <= 0.1:\n",
    "            value[0] = 0.5 * (1.0 + 0.01 * random.random())\n",
    "            value[1] = 0.25 * (1.0 + 0.01 * random.random())\n",
    "        else:\n",
    "            value[0] = 1. * (1.0 + 0.01 * random.random())\n",
    "            value[1] = 0. * (1.0 + 0.01 * random.random())\n",
    "\n",
    "    def value_shape(self):\n",
    "        return (2,)\n",
    "\n",
    "z = Function(Z)\n",
    "(u, v) = split(z)\n",
    "z0 = interpolate(RandExpression(), Z)\n",
    "(u0, v0) = split(z0)\n",
    "\n",
    "# Define the model constants\n",
    "eps1 = Constant(2*10**-5) # Diffusion coefficient for variable u\n",
    "eps2 = Constant(10**-5) # Diffusion coefficient for variable v\n",
    "k = Constant(0.055) # Rate constant for the second reaction\n",
    "Fr = Constant(0.02) # Feed rate\n",
    "\n",
    "# Define the weak formulation of the Gray-Scott equations\n",
    "F = (((u - u0)/ts)*p*dx + eps1 * inner(grad(u), grad(p)) * dx + u*v*v*p * dx - Fr * (1-u)*p * dx +\n",
    "     ((v - v0)/ts)*q*dx + eps2 * inner(grad(v), grad(q)) * dx - u*v*v*q * dx + (k+Fr) * v*q * dx)\n",
    "\n",
    "# Run the timeloop\n",
    "vtu = File(\"results/z.pvd\")\n",
    "while t < T:\n",
    "    solve(F == 0, z)\n",
    "    if t%25 == 0:\n",
    "      vtu << (z, t)\n",
    "      print \"Timelevel \", t\n",
    "    z0.assign(z)\n",
    "    t += ts\n",
    "plot(z0[0])   "
   ]
  },
  {
   "cell_type": "markdown",
   "metadata": {
    "slideshow": {
     "slide_type": "slide"
    }
   },
   "source": [
    "# Installation and getting help"
   ]
  },
  {
   "cell_type": "markdown",
   "metadata": {
    "slideshow": {
     "slide_type": "subslide"
    }
   },
   "source": [
    "## Installation using docker (Windows/MacOSX/Linux)\n",
    "\n",
    "<img src=\"large_v-trans.png\" alt=\"Docker\" style=\"width: 200px;\"/>\n",
    "\n",
    "\n",
    "1. Install Docker for your platform: Windows, Mac or Linux.\n",
    "\n",
    "2. Install the FEniCS Docker script:\n",
    "```bash\n",
    "curl -s https://get.fenicsproject.org | bash\n",
    "```\n",
    "3. Run\n",
    "```bash\n",
    "fenicsproject run\n",
    "```"
   ]
  },
  {
   "cell_type": "markdown",
   "metadata": {
    "collapsed": true,
    "slideshow": {
     "slide_type": "skip"
    }
   },
   "source": [
    "## Installation using Ubuntu packages (Ubuntu Linux)\n",
    "\n",
    "FEniCS offers Debian and Ubuntu packages for installation:\n",
    "\n",
    "```bash\n",
    "add-apt-repository ppa:fenics-packages/fenics\n",
    "apt-get update\n",
    "apt-get install fenics\n",
    "apt-get dist-upgrade\n",
    "```"
   ]
  },
  {
   "cell_type": "markdown",
   "metadata": {
    "slideshow": {
     "slide_type": "subslide"
    }
   },
   "source": [
    "### How to get started?\n",
    "* The (not yet finalised) FEniCS tutorial\n",
    "http://hplgit.github.io/fenics-tutorial/doc/web\n",
    "\n",
    "* Official FEniCS documentation https://fenicsproject.org/documentation/\n",
    "\n",
    "### Where to get help?\n",
    "\n",
    "* FEniCS Question and Answer Forum https://fenicsproject.org/qa/\n"
   ]
  },
  {
   "cell_type": "markdown",
   "metadata": {
    "slideshow": {
     "slide_type": "slide"
    }
   },
   "source": [
    "# Summary\n",
    "\n",
    "FEniCS automates the Finite Element Method.\n",
    "\n",
    "You can use it to solve;\n",
    "* linear and non-linear PDEs;\n",
    "* steady-state and time-dependent PDEs;\n",
    "* single and coupled PDEs;\n",
    "* to run in serial or parallel;\n",
    "* with various discretization options. \n",
    "\n",
    "**Get started at www.fenicsproject.org**"
   ]
  },
  {
   "cell_type": "markdown",
   "metadata": {
    "collapsed": true,
    "slideshow": {
     "slide_type": "skip"
    }
   },
   "source": [
    "## Commands required to run these lecture slides\n",
    "```bash\n",
    "fenicsproject notebook slides\n",
    "fenicsproject start slides\n",
    "```\n",
    "For presentation, install the following dependencies:"
   ]
  },
  {
   "cell_type": "code",
   "execution_count": null,
   "metadata": {
    "collapsed": true,
    "slideshow": {
     "slide_type": "skip"
    }
   },
   "outputs": [],
   "source": [
    "!pip install RISE --user\n",
    "!jupyter nbextension install rise --py --user\n",
    "!jupyter nbextension enable rise --py --user"
   ]
  }
 ],
 "metadata": {
  "celltoolbar": "Slideshow",
  "kernelspec": {
   "display_name": "Python 2",
   "language": "python",
   "name": "python2"
  },
  "language_info": {
   "codemirror_mode": {
    "name": "ipython",
    "version": 2
   },
   "file_extension": ".py",
   "mimetype": "text/x-python",
   "name": "python",
   "nbconvert_exporter": "python",
   "pygments_lexer": "ipython2",
   "version": "2.7.12"
  },
  "livereveal": {
   "scroll": true,
   "start_slideshow_at": "selected",
   "theme": "serif"
  }
 },
 "nbformat": 4,
 "nbformat_minor": 1
}
