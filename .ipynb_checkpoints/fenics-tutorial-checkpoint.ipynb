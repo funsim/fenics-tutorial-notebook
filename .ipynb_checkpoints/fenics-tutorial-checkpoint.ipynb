{
 "cells": [
  {
   "cell_type": "markdown",
   "metadata": {
    "collapsed": false,
    "slideshow": {
     "slide_type": "slide"
    }
   },
   "source": [
    "\n",
    "<center>\n",
    "<h1>An introduction to FEniCS</h1>\n",
    "<br/>\n",
    "<img src='fenics_logo.png' alt='Scaling test'  width='200'>\n",
    "\n",
    "<br/>\n",
    "<h3>Simon Funke</h3>\n",
    "<br/>\n",
    "12th October 2016, UNISA Symposium\n",
    "<br/>\n",
    "Contributors: Hans Petter Langtangen, Anders Logg, Marie E. Rognes, André Massing\n",
    "</center>"
   ]
  },
  {
   "cell_type": "code",
   "execution_count": 1,
   "metadata": {
    "collapsed": false,
    "slideshow": {
     "slide_type": "skip"
    }
   },
   "outputs": [],
   "source": [
    "%matplotlib inline"
   ]
  },
  {
   "cell_type": "markdown",
   "metadata": {
    "slideshow": {
     "slide_type": "subslide"
    }
   },
   "source": [
    "# Contents\n",
    "\n",
    "* What is FEniCS?\n",
    "* *Hello world* for scientific computing\n",
    "* The Gray-Scott equations\n",
    "* Installation and getting started\n",
    "\n",
    "Slides URL: goo.gl/pR68a5"
   ]
  },
  {
   "cell_type": "markdown",
   "metadata": {
    "slideshow": {
     "slide_type": "slide"
    }
   },
   "source": [
    "# What is FEniCS?"
   ]
  },
  {
   "cell_type": "markdown",
   "metadata": {
    "slideshow": {
     "slide_type": "subslide"
    }
   },
   "source": [
    "## FEniCS is an automated programming environment for differential equations\n",
    "<center>\n",
    "<img src='fenics_webpage.png' alt='Scaling test'  width='800'>\n",
    "http://fenicsproject.org/\n",
    "</center>\n",
    "\n",
    "* C++/Python library\n",
    "* Initiated 2003 in Chicago\n",
    "* 1000–2000 monthly downloads\n",
    "* Licensed under the GNU LGPL"
   ]
  },
  {
   "cell_type": "markdown",
   "metadata": {
    "collapsed": true,
    "slideshow": {
     "slide_type": "subslide"
    }
   },
   "source": [
    "## Collaborators\n",
    "\n",
    "* Simula Research Laboratory\n",
    "* University of Cambridge\n",
    "* University of Chicago\n",
    "* Texas Tech University\n",
    "* KTH Royal Institute of Technology \n",
    "* Chalmers University of Technology\n",
    "* Imperial College London\n",
    "* University of Oxford\n",
    "* Charles University in Prague\n",
    "* ..."
   ]
  },
  {
   "cell_type": "markdown",
   "metadata": {
    "slideshow": {
     "slide_type": "subslide"
    }
   },
   "source": [
    "## FEniCS uses code generation to combine generality with performance\n",
    "\n",
    "<center><img src='compiler.svg' alt='Compiler'  width='800'></center>"
   ]
  },
  {
   "cell_type": "markdown",
   "metadata": {
    "slideshow": {
     "slide_type": "subslide"
    }
   },
   "source": [
    "## Some PDEs that have been solved with FEniCS "
   ]
  },
  {
   "cell_type": "markdown",
   "metadata": {
    "slideshow": {
     "slide_type": "-"
    }
   },
   "source": [
    "* Burgers\n",
    "* Navier-Stokes\n",
    "* Stokes + mantle rheology\n",
    "* Stokes + ice rheology\n",
    "* Saint Venant + wetting/drying\n",
    "* Cahn-Hilliard\n",
    "* Gray-Scott\n",
    "* Shallow ice\n",
    "* Blatter-Pattyn\n",
    "* Quasi-geostrophic\n",
    "* Viscoelasticity\n",
    "* Gross-Pitaevskii\n",
    "* Yamabe\n",
    "* Image registration\n",
    "* Bidomain"
   ]
  },
  {
   "cell_type": "markdown",
   "metadata": {
    "slideshow": {
     "slide_type": "subslide"
    }
   },
   "source": [
    "## FEniCS code can be readable and scale with mathematical complexity\n",
    "<center><img src='stokes1.png' alt='Compiler'  width='1024'></center>"
   ]
  },
  {
   "cell_type": "markdown",
   "metadata": {
    "slideshow": {
     "slide_type": "subslide"
    }
   },
   "source": [
    "## FEniCS provides a wide range of (mixed) finite element spaces\n",
    "<center><img src='stokes2.png' alt='Compiler'  width='1024'></center>"
   ]
  },
  {
   "cell_type": "markdown",
   "metadata": {
    "slideshow": {
     "slide_type": "subslide"
    }
   },
   "source": [
    "## FEniCS provides an expressive form language close to mathematical syntax\n",
    "<center><img src='stokes3.png' alt='Compiler'  width='1024'></center>"
   ]
  },
  {
   "cell_type": "markdown",
   "metadata": {
    "slideshow": {
     "slide_type": "subslide"
    }
   },
   "source": [
    "## FEniCS can be high-performant"
   ]
  },
  {
   "cell_type": "markdown",
   "metadata": {},
   "source": [
    "<center><img src='richardsonwellsarcherscaling.svg' alt='Scaling test'  width='900'>\n",
    "<small>Authors: Chris N. Richardson, Garth Wells<br/> https://figshare.com/articles/Parallel_scaling_of_DOLFIN_on_ARCHER/1304537</center></small>\n"
   ]
  },
  {
   "cell_type": "markdown",
   "metadata": {
    "slideshow": {
     "slide_type": "slide"
    }
   },
   "source": [
    "## The *Hello world* for scientific computing in FEniCS"
   ]
  },
  {
   "cell_type": "markdown",
   "metadata": {},
   "source": [
    "**Our goal**: Solve the Poisson problem:\n",
    "\n",
    "Find $u$ which solves \n",
    "\n",
    "\\begin{align*}\n",
    "- \\Delta u = f && \\text{ in } \\Omega, \\\\\n",
    "u = u_0 && \\text{ on } \\partial \\Omega,\n",
    "\\end{align*}\n",
    "\n",
    "with $u_0 = 1 + x^2 + 2y^2$ and $f=6$."
   ]
  },
  {
   "cell_type": "markdown",
   "metadata": {
    "slideshow": {
     "slide_type": "fragment"
    }
   },
   "source": [
    "The Poisson equation arises in:\n",
    "* heat conduction, electrostatics, diffusion of substances, twisting of elastic rods, inviscid fluid flow, water waves, magnetostatics\n",
    "* as part of numerical splitting strategies of more complicated systems of PDEs, in particular the Navier–Stokes equations"
   ]
  },
  {
   "cell_type": "markdown",
   "metadata": {
    "slideshow": {
     "slide_type": "subslide"
    }
   },
   "source": [
    "## Solving a PDE in FEniCS\n",
    "Solving a physical problem with FEniCS consists of the\n",
    "following steps:\n",
    "\n",
    "1. Identify the PDE and its boundary conditions\n",
    "2. Reformulate the PDE problem as a variational problem\n",
    "3. Make a Python program where the formulas in the variational problem are coded, along with definitions of $f$, $u_0$ and a mesh for $\\Omega$\n",
    "4. Add statements in the program for solving the variational problem and visualizing the results"
   ]
  },
  {
   "cell_type": "markdown",
   "metadata": {
    "slideshow": {
     "slide_type": "subslide"
    }
   },
   "source": [
    "## The Finite Element Method Recipe\n",
    "<center><img src='fem_steps.png' alt='FEM steps'  width='800'>\n",
    "</center>"
   ]
  },
  {
   "cell_type": "markdown",
   "metadata": {
    "slideshow": {
     "slide_type": "subslide"
    }
   },
   "source": [
    "## Step 1: Deriving the variational formulation\n",
    "\n",
    "The simple recipe is: \n",
    "\n",
    "Multiply the PDE by a test function $v$ and\n",
    "integrate over $\\Omega$:\n",
    "\\begin{equation*}\n",
    "-\\int_\\Omega (\\Delta u)v \\text{d}x = \\int_\\Omega fv\\text{d}x\n",
    "\\end{equation*}"
   ]
  },
  {
   "cell_type": "markdown",
   "metadata": {
    "slideshow": {
     "slide_type": "fragment"
    }
   },
   "source": [
    "Then integrate by parts and set $v = 0$ on the Dirichlet boundary:\n",
    "\\begin{equation*}\n",
    "-\\int_\\Omega (\\Delta u) v \\text{d}x\n",
    "= \\int_\\Omega \\nabla u\\cdot\\nabla v\\text{d}x -\n",
    "\\underbrace{\\int_{\\partial\\Omega} \\frac{\\partial u}{\\partial n} v\\text{d}s}_{\\color{red}{=0}}\n",
    "\\end{equation*}"
   ]
  },
  {
   "cell_type": "markdown",
   "metadata": {
    "slideshow": {
     "slide_type": "fragment"
    }
   },
   "source": [
    "We find that:\n",
    "\\begin{equation*}\n",
    "\\int_\\Omega\\nabla u\\cdot\\nabla v\\text{d}x = \\int_\\Omega fv\\text{d}x\n",
    "\\end{equation*}"
   ]
  },
  {
   "cell_type": "markdown",
   "metadata": {
    "slideshow": {
     "slide_type": "subslide"
    }
   },
   "source": [
    "## Canonical variational problem\n",
    "  The following canonical notation is used in FEniCS: find\n",
    "  $u \\in V$ such that\n",
    "  \\begin{equation*}\n",
    "    a(u, v) = L(v)\n",
    "  \\end{equation*}\n",
    "  for all $v \\in \\hat{V}$"
   ]
  },
  {
   "cell_type": "markdown",
   "metadata": {
    "slideshow": {
     "slide_type": "fragment"
    }
   },
   "source": [
    "  For Poisson's equation, we have\n",
    "  \\begin{align*}\n",
    "    a(u, v) &= \\int_{\\Omega} \\nabla u \\cdot \\nabla v \\text{d}x\n",
    "    \\\\\n",
    "    L(v) &= \\int_{\\Omega} fv \\text{d}x\n",
    "  \\end{align*}"
   ]
  },
  {
   "cell_type": "markdown",
   "metadata": {
    "slideshow": {
     "slide_type": "fragment"
    }
   },
   "source": [
    "  $a(u, v)$ is a **bilinear form** and $L(v)$ is a **linear form**."
   ]
  },
  {
   "cell_type": "markdown",
   "metadata": {
    "slideshow": {
     "slide_type": "subslide"
    }
   },
   "source": [
    "## Implementation in FEniCS"
   ]
  },
  {
   "cell_type": "code",
   "execution_count": 7,
   "metadata": {
    "collapsed": false,
    "slideshow": {
     "slide_type": "fragment"
    }
   },
   "outputs": [
    {
     "data": {
      "text/plain": [
       "<matplotlib.collections.PolyCollection at 0x7fc7aa2af850>"
      ]
     },
     "execution_count": 7,
     "metadata": {},
     "output_type": "execute_result"
    },
    {
     "data": {
      "image/png": "[encoded data removed]",
      "text/plain": [
       "<matplotlib.figure.Figure at 0x7fc7b1563d90>"
      ]
     },
     "metadata": {},
     "output_type": "display_data"
    }
   ],
   "source": [
    "from fenics import *\n",
    "# Create mesh and define function space\n",
    "mesh = UnitSquareMesh(32, 32)\n",
    "V = FunctionSpace(mesh, 'P', 1)\n",
    "\n",
    "# Define boundary condition\n",
    "u_D = Expression('1 + x[0]*x[0] + 2*x[1]*x[1]', degree=2)\n",
    "\n",
    "def boundary(x, on_boundary):\n",
    "    return on_boundary\n",
    "\n",
    "bc = DirichletBC(V, u_D, boundary)\n",
    "\n",
    "# Define variational problem\n",
    "u = TrialFunction(V)\n",
    "v = TestFunction(V)\n",
    "f = Constant(-9.0)\n",
    "a = dot(grad(u), grad(v))*dx\n",
    "L = f*v*dx\n",
    "\n",
    "# Compute solution\n",
    "u = Function(V)\n",
    "solve(a == L, u, bc)\n",
    "\n",
    "# Plot solution\n",
    "plot(u)"
   ]
  },
  {
   "cell_type": "markdown",
   "metadata": {
    "slideshow": {
     "slide_type": "subslide"
    }
   },
   "source": [
    "## Step by step: the first line\n",
    "\n",
    "  The first line of a FEniCS program usually begins with\n",
    "\n",
    "```python\n",
    "from fenics import *\n",
    "```\n",
    "\n",
    "This imports key classes like **UnitSquareMesh**, **FunctionSpace**,\n",
    "**Function** and so forth, from the FEniCS user interface\n",
    "(DOLFIN)\n"
   ]
  },
  {
   "cell_type": "markdown",
   "metadata": {
    "slideshow": {
     "slide_type": "subslide"
    }
   },
   "source": [
    "## Step by step: Creating a mesh\n",
    "\n",
    "Next, we create a mesh of our domain $\\Omega$:\n",
    "\n",
    "```python\n",
    "mesh = UnitSquareMesh(8, 8)\n",
    "```\n",
    "This defines a mesh of $8 \\times 8 \\times 2 = 128$ triangles of the\n",
    "unit square."
   ]
  },
  {
   "cell_type": "markdown",
   "metadata": {
    "slideshow": {
     "slide_type": "fragment"
    }
   },
   "source": [
    "Other useful classes for creating built-in meshes include\n",
    "* UnitIntervalMesh\n",
    "* UnitCubeMesh\n",
    "* UnitCircleMesh\n",
    "* UnitSphereMesh\n",
    "* RectangleMesh\n",
    "* BoxMesh"
   ]
  },
  {
   "cell_type": "markdown",
   "metadata": {
    "slideshow": {
     "slide_type": "subslide"
    }
   },
   "source": [
    "## Step by step: Creating more complex meshes\n",
    "\n",
    "More complex geometries can be built using Constructive Solid\n",
    "Geometry (CSG) through the FEniCS component **mshr**:"
   ]
  },
  {
   "cell_type": "code",
   "execution_count": 3,
   "metadata": {
    "collapsed": false,
    "slideshow": {
     "slide_type": "fragment"
    }
   },
   "outputs": [
    {
     "data": {
      "text/plain": [
       "[<matplotlib.lines.Line2D at 0x7fc7b15a7710>,\n",
       " <matplotlib.lines.Line2D at 0x7fc7b15a78d0>]"
      ]
     },
     "execution_count": 3,
     "metadata": {},
     "output_type": "execute_result"
    },
    {
     "data": {
      "image/png": "[encoded data removed]",
      "text/plain": [
       "<matplotlib.figure.Figure at 0x7fc7b26b2f50>"
      ]
     },
     "metadata": {},
     "output_type": "display_data"
    }
   ],
   "source": [
    "from mshr import *\n",
    "r = Rectangle(Point(0.5, 0.5), Point(3.5, 1.5))\n",
    "c = Circle(Point(1.0, 1.0), 0.2)\n",
    "g = r - c\n",
    "mesh = generate_mesh(g, 20)\n",
    "plot(mesh)"
   ]
  },
  {
   "cell_type": "markdown",
   "metadata": {
    "slideshow": {
     "slide_type": "subslide"
    }
   },
   "source": [
    "## Step by step: Loading external meshes\n",
    "\n",
    "Meshes created with external software (for example **Gmsh** can be converted into FEniCS own mesh formated with:\n",
    "```bash\n",
    "dolfin-convert dolfin.msh dolfin.xml.gz\n",
    "```\n",
    "and loaded with"
   ]
  },
  {
   "cell_type": "code",
   "execution_count": 4,
   "metadata": {
    "collapsed": false
   },
   "outputs": [
    {
     "data": {
      "text/plain": [
       "[<matplotlib.lines.Line2D at 0x7fc7b1486350>,\n",
       " <matplotlib.lines.Line2D at 0x7fc7b1486510>]"
      ]
     },
     "execution_count": 4,
     "metadata": {},
     "output_type": "execute_result"
    },
    {
     "data": {
      "image/png": "[encoded data removed]",
      "text/plain": [
       "<matplotlib.figure.Figure at 0x7fc7b1543890>"
      ]
     },
     "metadata": {},
     "output_type": "display_data"
    }
   ],
   "source": [
    "mesh = Mesh(\"dolfin.xml.gz\")\n",
    "plot(mesh)"
   ]
  },
  {
   "cell_type": "markdown",
   "metadata": {
    "slideshow": {
     "slide_type": "subslide"
    }
   },
   "source": [
    "## Step by step: Creating a function space\n",
    "\n",
    "  The following line creates a finite element function space relative to this mesh:\n",
    "\n",
    "```python\n",
    "V = FunctionSpace(mesh, \"Lagrange\", 1)\n",
    "```"
   ]
  },
  {
   "cell_type": "markdown",
   "metadata": {
    "slideshow": {
     "slide_type": "-"
    }
   },
   "source": [
    "  The second argument specifies the type of element, while the third\n",
    "  argument is the degree of the basis functions on the element"
   ]
  },
  {
   "cell_type": "markdown",
   "metadata": {
    "slideshow": {
     "slide_type": "fragment"
    }
   },
   "source": [
    "Other types of elements include\n",
    "* `\"Discontinuous Lagrange\"`\n",
    "* `\"Brezzi-Douglas-Marini\"`\n",
    "* `\"Raviart-Thomas\"`\n",
    "* `\"Crouzeix-Raviart\"`\n",
    "* `\"Nedelec 1st kind H(curl)\"`\n",
    "* `\"Nedelec 2nd kind H(curl)\"`"
   ]
  },
  {
   "cell_type": "markdown",
   "metadata": {
    "slideshow": {
     "slide_type": "subslide"
    }
   },
   "source": [
    "## Step by step: defining expressions\n",
    "\n",
    "Next, we define an expression for the boundary value:\n",
    "```python\n",
    "u0 = Expression(\"1 + x[0]*x[0] + 2*x[1]*x[1]\", degree=2)\n",
    "```\n",
    "The formula must be written in C++ syntax, and\n",
    "the polynomial degree must be specified."
   ]
  },
  {
   "cell_type": "markdown",
   "metadata": {
    "slideshow": {
     "slide_type": "fragment"
    }
   },
   "source": [
    "The **Expression** class is very flexible and can be used to\n",
    "create complex user-defined expressions. For more information, try\n",
    "```python\n",
    "from fenics import *\n",
    "help(Expression)\n",
    "```"
   ]
  },
  {
   "cell_type": "markdown",
   "metadata": {
    "slideshow": {
     "slide_type": "subslide"
    }
   },
   "source": [
    "## Step by step: defining a boundary condition\n",
    "\n",
    "The following code defines a Dirichlet boundary condition:\n",
    "```python\n",
    "bc = DirichletBC(V, u0, \"on_boundary\")\n",
    "```\n",
    "\n",
    "This boundary condition states that a function in the function space\n",
    "defined by **V** should be equal to **u0** on the domain defined\n",
    "by **\"on_boundary\"**\n",
    "\n",
    "Note that the above line does not yet apply the boundary condition\n",
    "to all functions in the function space."
   ]
  },
  {
   "cell_type": "markdown",
   "metadata": {
    "slideshow": {
     "slide_type": "subslide"
    }
   },
   "source": [
    "## Step by step: more about defining domains\n",
    "For a Dirichlet boundary condition, a simple domain can be defined\n",
    "by a string\n",
    "```python\n",
    "\"on_boundary\" # The entire boundary\n",
    "```"
   ]
  },
  {
   "cell_type": "markdown",
   "metadata": {
    "slideshow": {
     "slide_type": "fragment"
    }
   },
   "source": [
    "Alternatively, domains can be defined by subclassing **SubDomain**:\n",
    "```python\n",
    "class Boundary(SubDomain):\n",
    "    def inside(self, x, on_boundary):\n",
    "        return on_boundary\n",
    "```"
   ]
  },
  {
   "cell_type": "markdown",
   "metadata": {
    "slideshow": {
     "slide_type": "fragment"
    }
   },
   "source": [
    "There are many more possibilities, see\n",
    "```python\n",
    "help(SubDomain)\n",
    "help(DirichletBC)\n",
    "```"
   ]
  },
  {
   "cell_type": "markdown",
   "metadata": {
    "slideshow": {
     "slide_type": "subslide"
    }
   },
   "source": [
    "## Step by step: defining the right-hand side\n",
    "\n",
    "The right-hand side $f = - 6$ may be defined as follows:\n",
    "```python\n",
    "f = Expression(\"-6.0\", degree=0)\n",
    "```"
   ]
  },
  {
   "cell_type": "markdown",
   "metadata": {
    "collapsed": true,
    "slideshow": {
     "slide_type": "fragment"
    }
   },
   "source": [
    "or (more efficiently) as\n",
    "```python\n",
    "f = Constant(-6.0)\n",
    "```"
   ]
  },
  {
   "cell_type": "markdown",
   "metadata": {
    "slideshow": {
     "slide_type": "subslide"
    }
   },
   "source": [
    "## Step by step: defining variational problems\n",
    "\n",
    "Variational problems are defined in terms of **trial** and\n",
    "**test** functions:\n",
    "\n",
    "```python\n",
    "u = TrialFunction(V)\n",
    "v = TestFunction(V)\n",
    "```"
   ]
  },
  {
   "cell_type": "markdown",
   "metadata": {
    "collapsed": true,
    "slideshow": {
     "slide_type": "fragment"
    }
   },
   "source": [
    "We now have all the objects we need in order to specify the bilinear\n",
    "form **a(u,v)** and the linear form **L(v)**:\n",
    "\n",
    "```python\n",
    "a = inner(grad(u), grad(v))*dx\n",
    "L = f*v*dx\n",
    "```"
   ]
  },
  {
   "cell_type": "markdown",
   "metadata": {
    "slideshow": {
     "slide_type": "subslide"
    }
   },
   "source": [
    "## Step by step: solving variational problems\n",
    "\n",
    "Once a variational problem has been defined, it may be solved\n",
    "by calling the `solve` function:\n",
    "\n",
    "```python\n",
    "u = Function(V)\n",
    "solve(a == L, u, bc)\n",
    "```"
   ]
  },
  {
   "cell_type": "markdown",
   "metadata": {
    "slideshow": {
     "slide_type": "fragment"
    }
   },
   "source": [
    "Note the reuse of the variable name *u* as both a *TrialFunction*\n",
    "in the variational problem and a *Function* to store the solution."
   ]
  },
  {
   "cell_type": "markdown",
   "metadata": {
    "slideshow": {
     "slide_type": "subslide"
    }
   },
   "source": [
    "## Step by step: post-processing"
   ]
  },
  {
   "cell_type": "markdown",
   "metadata": {
    "slideshow": {
     "slide_type": "fragment"
    }
   },
   "source": [
    "The solution and the mesh may be plotted by simply calling:\n",
    "```python\n",
    "plot(u)\n",
    "pylab.show()\n",
    "plot(mesh)\n",
    "pylab.show()\n",
    "```"
   ]
  },
  {
   "cell_type": "markdown",
   "metadata": {
    "slideshow": {
     "slide_type": "fragment"
    }
   },
   "source": [
    "For postprocessing in ParaView or MayaVi, store the solution in VTK\n",
    "format:\n",
    "```python\n",
    "file = File(\"poisson.pvd\")\n",
    "file << u\n",
    "```"
   ]
  },
  {
   "cell_type": "markdown",
   "metadata": {
    "slideshow": {
     "slide_type": "slide"
    }
   },
   "source": [
    "## Fun break - Welcome to the FEniCS Twitter Bot\n",
    "\n",
    "<center>\n",
    "<img src='fenicsbot.png' alt='Twitter FEniCS bot'  width='1024'>\n",
    "https://twitter.com/fenicsbot\n",
    "</center>"
   ]
  },
  {
   "cell_type": "markdown",
   "metadata": {
    "slideshow": {
     "slide_type": "slide"
    }
   },
   "source": [
    "## Complex Patterns in a simple system - the Gray-Scott equations"
   ]
  },
  {
   "cell_type": "markdown",
   "metadata": {
    "slideshow": {
     "slide_type": "subslide"
    }
   },
   "source": [
    "## Can we model patterns that occur in nature?\n",
    "\n",
    "<center>\n",
    "<img src='zebra.jpg' alt='Zebra: Source wikipedia'  width='500'>\n",
    "<img src='butterfly.jpg' alt='Zebra: Source wikipedia'  width='500'>\n",
    "</center>"
   ]
  },
  {
   "cell_type": "markdown",
   "metadata": {
    "slideshow": {
     "slide_type": "subslide"
    }
   },
   "source": [
    "## The Gray-Scott equations describe for formation of such patterns\n",
    "\n",
    "The Gray-Scott equations are:                                                                                                  \n",
    "\n",
    "\\begin{equation}\n",
    "\\begin{aligned}\n",
    "\\frac{\\partial u}{\\partial t} & = D_u \\Delta u - u v^2 + F(1-u) \\qquad \\text{in } \\Omega, \\\\  \n",
    "\\frac{\\partial v}{\\partial t} & = D_v \\Delta v + u v^2 - (F+k)v \\qquad \\text{in } \\Omega,     \n",
    "\\end{aligned} \n",
    "\\end{equation}       \n",
    "where $u$ and $v$ are the two unknowns, $D_u$ and $D_v$ are the diffusion coefficients, $k$ is the rate constant of the second reaction and $F$ the feed rate."
   ]
  },
  {
   "cell_type": "markdown",
   "metadata": {
    "slideshow": {
     "slide_type": "fragment"
    }
   },
   "source": [
    "In addition we need initial and boundary conditions:\n",
    "\\begin{equation}\n",
    "\\begin{aligned}\n",
    "u = u_0, \\quad v = v_0 \\qquad \\text{ at } t = 0\\\\\n",
    "\\nabla u \\cdot n = 0, \\quad \\nabla v \\cdot n = 0 \\qquad \\text{ on } \\partial \\Omega\n",
    "\\end{aligned} \n",
    "\\end{equation}       "
   ]
  },
  {
   "cell_type": "markdown",
   "metadata": {
    "slideshow": {
     "slide_type": "fragment"
    }
   },
   "source": [
    "**New challenges:** This is a time-dependent, coupled, non-linear PDE!"
   ]
  },
  {
   "cell_type": "markdown",
   "metadata": {
    "slideshow": {
     "slide_type": "subslide"
    }
   },
   "source": [
    "## The solution pattern varies depending on the choice of `k` and `F` \n",
    "\n",
    "<center>\n",
    "<img src='gray_scott_solutions.png' alt='Zebra: Source wikipedia'  width='500'>\n",
    "<small>From: *The (unfinished) PDE coffee table book, chapter 22*</small>\n",
    "</center>"
   ]
  },
  {
   "cell_type": "markdown",
   "metadata": {
    "slideshow": {
     "slide_type": "subslide"
    }
   },
   "source": [
    "## Step by step: Discretization in time\n",
    "\n",
    "We choose to discretize the backward Euler.\n",
    "\n",
    "Given the solution $u_0, v_0$ at the time $t$, we\n",
    "can compute at time $t+ts$ with:\n",
    "\n",
    "\\begin{equation}                                                                                                                                                                                            \n",
    "\\begin{aligned}                                                                                                                                                                                             \n",
    "\\frac{u - u_0}{ts} & = D_u \\nabla^2 u - u v^2 + F(1-u), \\\\                                                                                                                                       \n",
    "\\frac{v - v_0}{ts} & = D_v \\nabla^2 v + u v^2 - (F+k)v,                                                                                                                                          \n",
    "\\end{aligned}                                                                                                                                           \n",
    "\\end{equation}   "
   ]
  },
  {
   "cell_type": "markdown",
   "metadata": {
    "slideshow": {
     "slide_type": "fragment"
    }
   },
   "source": [
    "At each time step, we now have a steady PDE for which we can use FEniCS!"
   ]
  },
  {
   "cell_type": "markdown",
   "metadata": {
    "slideshow": {
     "slide_type": "subslide"
    }
   },
   "source": [
    "## Step by step: Derivation of the weak-formulation\n",
    "\n",
    "We multiply the first equation with test functions $p$ and the second equation with $q$ and integrate over the domain:\n",
    "\n",
    "\\begin{equation}                                                                                                                                                                                            \n",
    "\\begin{aligned}                                                                                                                                                                                             \n",
    "\\int_\\Omega \\frac{u - u_0}{ts} p \\text{d} x & = \\int_\\Omega D_u \\Delta up - u v^2p+ F(1-u) p \\text{d}x, \\\\                                                                                                       \n",
    "\\int_\\Omega \\frac{v - v_0}{ts} q \\text{d} x& = \\int_\\Omega D_v \\Delta vq + u v^2q - (F+k)v q\\text{d}x.                                                                                                                              \n",
    "\\end{aligned}                                                                                                                                           \n",
    "\\end{equation}  "
   ]
  },
  {
   "cell_type": "markdown",
   "metadata": {
    "slideshow": {
     "slide_type": "fragment"
    }
   },
   "source": [
    "Next, we integrate by parts the terms with second order derivatives:\n",
    "\\begin{equation}                                                                                                                                                                                            \n",
    "\\begin{aligned}                                                                                                                                                                                             \n",
    "\\int_\\Omega \\frac{u - u_0}{ts} p \\text{d} x & =  \\int_\\Omega - D_u \\nabla u \\cdot \\nabla p - u v^2 p + F(1-u) p \\text{d}x + \\int_{\\partial \\Omega} \\underbrace{D_u \\nabla u \\cdot n p}_{\\color{red}{=0}} \\text{d}s, \\\\                                                                                                       \n",
    "\\int_\\Omega \\frac{v - v_0}{ts} q \\text{d} x& = \\int_\\Omega - D_v \\nabla v \\cdot \\nabla q  + u v^2 q- (F+k)vq\\text{d}x + \\int_{\\partial \\Omega} \\underbrace{D_v \\nabla v \\cdot n q}_{\\color{red}{=0}}\\text{d}s.                                                       \n",
    "\\end{aligned}                                                                                                                                           \n",
    "\\end{equation}  "
   ]
  },
  {
   "cell_type": "markdown",
   "metadata": {
    "slideshow": {
     "slide_type": "subslide"
    }
   },
   "source": [
    "## Step by step: Canonical form for nonlinear variational problems\n",
    "\n",
    "The following canonical notation is used in FEniCS for (possibly)\n",
    "nonlinear problems:\n",
    "\n",
    "  Find $z \\in Z$ such that\n",
    "  \\begin{equation*}\n",
    "    F(z; y) = 0\n",
    "  \\end{equation*}\n",
    "  for all testfunctions $y$.\n",
    "\n",
    "**Note**:\n",
    "Here, $z$ is a function, and $y$ is a test function, and so $F$ is a **linear form**."
   ]
  },
  {
   "cell_type": "markdown",
   "metadata": {
    "slideshow": {
     "slide_type": "subslide"
    }
   },
   "source": [
    "## Step by step: Canonical form for Gray-Scott equations\n",
    "\n",
    "The functions are $z = (u, v)$, $y = (p, q)$ and the form $F$ is\n",
    "\\begin{equation*}\n",
    "\\begin{split}\n",
    "F(z; y) =\n",
    "\\int_\\Omega \\frac{u - u_0}{ts} p \\text{d} x & +  \\int_\\Omega  D_u \\nabla u \\cdot \\nabla p + u v^2 p - F(1-u) p \\text{d}x +\\\\                                                                                                    \n",
    "\\int_\\Omega \\frac{v - v_0}{ts} q \\text{d} x& + \\int_\\Omega D_v \\nabla v \\cdot \\nabla q - u v^2 q + (F+k)vq\\text{d}x. \n",
    "\\end{split}\n",
    "\\end{equation*}"
   ]
  },
  {
   "cell_type": "markdown",
   "metadata": {
    "slideshow": {
     "slide_type": "fragment"
    }
   },
   "source": [
    "The FEniCS implementation is almost a 1-1 copy of the maths:\n",
    "```python\n",
    "F = (((u - u0)/ts)*p * dx + \n",
    "     Du * inner(grad(u), grad(p)) * dx +\n",
    "     u*v*v*p * dx - \n",
    "     Fr * (1-u)*p * dx +\n",
    "     ((v - v0)/ts)*q* dx + \n",
    "     Dv * inner(grad(v), grad(q)) * dx -\n",
    "     u*v*v*q * dx + \n",
    "     (k+Fr)*v*q * dx)\n",
    "```"
   ]
  },
  {
   "cell_type": "markdown",
   "metadata": {
    "slideshow": {
     "slide_type": "subslide"
    }
   },
   "source": [
    "##  Step by step: creating mixed function spaces\n",
    "\n",
    "Mixed elements are created by taking the product of more basic elements\n",
    "```python\n",
    "P1 = FiniteElement(\"Lagrange\", triangle, 1)\n",
    "P1P1 = P1 * P1\n",
    "Z = FunctionSpace(mesh, P1P1)\n",
    "```\n",
    "\n",
    "You can define functions on mixed spaces and split into components:\n",
    "```python\n",
    "z = Function(Z)\n",
    "(u, v) = split(z)\n",
    "```\n",
    "... and arguments:\n",
    "```python\n",
    "(p, q) = TestFunctions(Z)\n",
    "```"
   ]
  },
  {
   "cell_type": "markdown",
   "metadata": {
    "slideshow": {
     "slide_type": "subslide"
    }
   },
   "source": [
    "## Step by step: solving (nonlinear) variational problems\n",
    "\n",
    "Once a variational problem has been defined, it may be solved\n",
    "by calling the *solve* function (as for linear problems):\n",
    "```python\n",
    "solve(F == 0, z)\n",
    "```"
   ]
  },
  {
   "cell_type": "markdown",
   "metadata": {
    "slideshow": {
     "slide_type": "fragment"
    }
   },
   "source": [
    "For time-dependent problems, we wrap the *solve* in a time-loop of the form:\n",
    "```python\n",
    "while t < T:\n",
    "    solve(F == 0, z)\n",
    "    z0.assign(z)\n",
    "    t += ts  \n",
    "```"
   ]
  },
  {
   "cell_type": "markdown",
   "metadata": {
    "slideshow": {
     "slide_type": "subslide"
    }
   },
   "source": [
    "# A full FeniCS implementation"
   ]
  },
  {
   "cell_type": "code",
   "execution_count": null,
   "metadata": {
    "collapsed": false,
    "slideshow": {
     "slide_type": "-"
    }
   },
   "outputs": [
    {
     "name": "stdout",
     "output_type": "stream",
     "text": [
      "Timelevel  0.0\n",
      "Timelevel  50.0\n",
      "Timelevel  100.0\n",
      "Timelevel  150.0\n",
      "Timelevel  200.0\n",
      "Timelevel  250.0\n",
      "Timelevel  300.0\n",
      "Timelevel  350.0\n",
      "Timelevel  400.0\n",
      "Timelevel  450.0\n",
      "Timelevel  500.0\n",
      "Timelevel  550.0\n",
      "Timelevel  600.0\n",
      "Timelevel  650.0\n",
      "Timelevel  700.0\n",
      "Timelevel  750.0\n",
      "Timelevel  800.0\n"
     ]
    }
   ],
   "source": [
    "from dolfin import *\n",
    "import random\n",
    "t = 0. # Initial time\n",
    "T = 1000. # Final time\n",
    "ts = 10. # Timestep\n",
    "\n",
    "# Define mesh and function spaces\n",
    "n = 64; d = 2.5\n",
    "mesh = RectangleMesh(Point(0.0, 0.0), Point(d, d), n, n)\n",
    "\n",
    "P1 = FiniteElement(\"Lagrange\", triangle, 1)\n",
    "P1P1 = P1 * P1\n",
    "Z = FunctionSpace(mesh, P1P1)\n",
    "p, q = TestFunctions(Z)\n",
    "\n",
    "# Set a randomized initial condition\n",
    "class RandExpression(Expression):\n",
    "    def eval(self, value, x):\n",
    "        if abs(x[0] - d/2) <= 0.1 and abs(x[1] - d/2) <= 0.1:\n",
    "            value[0] = 0.5 * (1.0 + 0.01 * random.random())\n",
    "            value[1] = 0.25 * (1.0 + 0.01 * random.random())\n",
    "        else:\n",
    "            value[0] = 1. * (1.0 + 0.01 * random.random())\n",
    "            value[1] = 0. * (1.0 + 0.01 * random.random())\n",
    "\n",
    "    def value_shape(self):\n",
    "        return (2,)\n",
    "\n",
    "z = Function(Z)\n",
    "(u, v) = split(z)\n",
    "z0 = interpolate(RandExpression(), Z)\n",
    "(u0, v0) = split(z0)\n",
    "\n",
    "# Define the model constants\n",
    "Du = Constant(2*10**-5) # Diffusion coefficient for variable u\n",
    "Dv = Constant(10**-5) # Diffusion coefficient for variable v\n",
    "k = Constant(0.055) # Rate constant for the second reaction\n",
    "Fr = Constant(0.02) # Feed rate\n",
    "\n",
    "# Define the weak formulation of the Gray-Scott equations\n",
    "F = (((u - u0)/ts)*p*dx + Du * inner(grad(u), grad(p)) * dx + u*v*v*p * dx - Fr * (1-u)*p * dx +\n",
    "     ((v - v0)/ts)*q*dx + Dv * inner(grad(v), grad(q)) * dx - u*v*v*q * dx + (k+Fr) * v*q * dx)\n",
    "\n",
    "# Run the timeloop\n",
    "vtu = File(\"results/z.pvd\")\n",
    "while t < T:\n",
    "    solve(F == 0, z)\n",
    "    if t%25 == 0:\n",
    "      vtu << (z, t)\n",
    "      print \"Timelevel \", t\n",
    "    z0.assign(z)\n",
    "    t += ts\n",
    "plot(z0[0])   "
   ]
  },
  {
   "cell_type": "markdown",
   "metadata": {
    "slideshow": {
     "slide_type": "slide"
    }
   },
   "source": [
    "# Installation and getting help"
   ]
  },
  {
   "cell_type": "markdown",
   "metadata": {
    "slideshow": {
     "slide_type": "subslide"
    }
   },
   "source": [
    "## Installation using docker (Windows/MacOSX/Linux)\n",
    "\n",
    "<img src=\"large_v-trans.png\" alt=\"Docker\" style=\"width: 200px;\"/>\n",
    "\n",
    "\n",
    "1. Install Docker for your platform: Windows, Mac or Linux.\n",
    "\n",
    "2. Install the FEniCS Docker script:\n",
    "```bash\n",
    "curl -s https://get.fenicsproject.org | bash\n",
    "```\n",
    "3. Run\n",
    "```bash\n",
    "fenicsproject run\n",
    "```"
   ]
  },
  {
   "cell_type": "markdown",
   "metadata": {
    "collapsed": true,
    "slideshow": {
     "slide_type": "skip"
    }
   },
   "source": [
    "## Installation using Ubuntu packages (Ubuntu Linux)\n",
    "\n",
    "FEniCS offers Debian and Ubuntu packages for installation:\n",
    "\n",
    "```bash\n",
    "add-apt-repository ppa:fenics-packages/fenics\n",
    "apt-get update\n",
    "apt-get install fenics\n",
    "apt-get dist-upgrade\n",
    "```"
   ]
  },
  {
   "cell_type": "markdown",
   "metadata": {
    "slideshow": {
     "slide_type": "subslide"
    }
   },
   "source": [
    "### How to get started?\n",
    "* The (not yet finalised) FEniCS tutorial\n",
    "http://hplgit.github.io/fenics-tutorial/doc/web\n",
    "\n",
    "* Official FEniCS documentation https://fenicsproject.org/documentation/\n",
    "\n",
    "* The FEniCS book\n",
    "<img src=\"fenicsbook.jpg\" alt=\"FeniCS book\" style=\"width: 400px;\"/>"
   ]
  },
  {
   "cell_type": "markdown",
   "metadata": {
    "slideshow": {
     "slide_type": "subslide"
    }
   },
   "source": [
    "### Where to get help?\n",
    "\n",
    "FEniCS Question and Answer Forum \n",
    "\n",
    "<center>\n",
    "<img src=\"fenicsqa.png\" alt=\"FeniCS book\" style=\"width: 1024px;\"/>\n",
    "https://fenicsproject.org/qa/\n",
    "</center>"
   ]
  },
  {
   "cell_type": "markdown",
   "metadata": {
    "slideshow": {
     "slide_type": "slide"
    }
   },
   "source": [
    "# Summary\n",
    "\n",
    "FEniCS automates the Finite Element Method.\n",
    "\n",
    "You can use it to solve;\n",
    "* linear and non-linear PDEs;\n",
    "* steady-state and time-dependent PDEs;\n",
    "* single and coupled PDEs;\n",
    "* to run in serial or parallel;\n",
    "* in 1D, 2D and 3D;\n",
    "* with various discretization options. \n",
    "\n",
    "**Get started at www.fenicsproject.org**\n",
    "\n",
    "Slides URL: goo.gl/pR68a5"
   ]
  },
  {
   "cell_type": "markdown",
   "metadata": {
    "collapsed": true,
    "slideshow": {
     "slide_type": "skip"
    }
   },
   "source": [
    "## Commands required to run these lecture slides\n",
    "```bash\n",
    "fenicsproject notebook slides\n",
    "fenicsproject start slides\n",
    "```\n",
    "For presentation, install the following dependencies:"
   ]
  },
  {
   "cell_type": "code",
   "execution_count": 6,
   "metadata": {
    "collapsed": true,
    "slideshow": {
     "slide_type": "skip"
    }
   },
   "outputs": [
    {
     "name": "stdout",
     "output_type": "stream",
     "text": [
      "Requirement already satisfied (use --upgrade to upgrade): RISE in /home/fenics/.local/lib/python2.7/site-packages\n",
      "Requirement already satisfied (use --upgrade to upgrade): notebook>=4.2 in /usr/local/lib/python2.7/dist-packages (from RISE)\n",
      "Requirement already satisfied (use --upgrade to upgrade): ipykernel in /usr/local/lib/python2.7/dist-packages (from notebook>=4.2->RISE)\n",
      "Requirement already satisfied (use --upgrade to upgrade): jupyter-core in /usr/local/lib/python2.7/dist-packages (from notebook>=4.2->RISE)\n",
      "Requirement already satisfied (use --upgrade to upgrade): traitlets in /usr/local/lib/python2.7/dist-packages (from notebook>=4.2->RISE)\n",
      "Requirement already satisfied (use --upgrade to upgrade): tornado>=4 in /usr/local/lib/python2.7/dist-packages (from notebook>=4.2->RISE)\n",
      "Requirement already satisfied (use --upgrade to upgrade): ipython-genutils in /usr/local/lib/python2.7/dist-packages (from notebook>=4.2->RISE)\n",
      "Requirement already satisfied (use --upgrade to upgrade): jupyter-client in /usr/local/lib/python2.7/dist-packages (from notebook>=4.2->RISE)\n",
      "Requirement already satisfied (use --upgrade to upgrade): nbformat in /usr/local/lib/python2.7/dist-packages (from notebook>=4.2->RISE)\n",
      "Requirement already satisfied (use --upgrade to upgrade): nbconvert in /usr/local/lib/python2.7/dist-packages (from notebook>=4.2->RISE)\n",
      "Requirement already satisfied (use --upgrade to upgrade): jinja2 in /usr/local/lib/python2.7/dist-packages (from notebook>=4.2->RISE)\n",
      "Requirement already satisfied (use --upgrade to upgrade): terminado>=0.3.3; sys_platform != \"win32\" in /usr/local/lib/python2.7/dist-packages (from notebook>=4.2->RISE)\n",
      "Requirement already satisfied (use --upgrade to upgrade): ipython>=4.0.0 in /usr/local/lib/python2.7/dist-packages (from ipykernel->notebook>=4.2->RISE)\n",
      "Requirement already satisfied (use --upgrade to upgrade): decorator in /usr/lib/python2.7/dist-packages (from traitlets->notebook>=4.2->RISE)\n",
      "Requirement already satisfied (use --upgrade to upgrade): singledispatch in /usr/local/lib/python2.7/dist-packages (from tornado>=4->notebook>=4.2->RISE)\n",
      "Requirement already satisfied (use --upgrade to upgrade): certifi in /usr/local/lib/python2.7/dist-packages (from tornado>=4->notebook>=4.2->RISE)\n",
      "Requirement already satisfied (use --upgrade to upgrade): backports_abc>=0.4 in /usr/local/lib/python2.7/dist-packages (from tornado>=4->notebook>=4.2->RISE)\n",
      "Requirement already satisfied (use --upgrade to upgrade): pyzmq>=13 in /usr/local/lib/python2.7/dist-packages (from jupyter-client->notebook>=4.2->RISE)\n",
      "Requirement already satisfied (use --upgrade to upgrade): jsonschema!=2.5.0,>=2.0 in /usr/local/lib/python2.7/dist-packages (from nbformat->notebook>=4.2->RISE)\n",
      "Requirement already satisfied (use --upgrade to upgrade): entrypoints in /usr/local/lib/python2.7/dist-packages (from nbconvert->notebook>=4.2->RISE)\n",
      "Requirement already satisfied (use --upgrade to upgrade): pygments in /usr/local/lib/python2.7/dist-packages (from nbconvert->notebook>=4.2->RISE)\n",
      "Requirement already satisfied (use --upgrade to upgrade): mistune!=0.6 in /usr/local/lib/python2.7/dist-packages (from nbconvert->notebook>=4.2->RISE)\n",
      "Requirement already satisfied (use --upgrade to upgrade): MarkupSafe in /usr/local/lib/python2.7/dist-packages (from jinja2->notebook>=4.2->RISE)\n",
      "Requirement already satisfied (use --upgrade to upgrade): ptyprocess in /usr/local/lib/python2.7/dist-packages (from terminado>=0.3.3; sys_platform != \"win32\"->notebook>=4.2->RISE)\n",
      "Requirement already satisfied (use --upgrade to upgrade): pickleshare in /usr/local/lib/python2.7/dist-packages (from ipython>=4.0.0->ipykernel->notebook>=4.2->RISE)\n",
      "Requirement already satisfied (use --upgrade to upgrade): prompt-toolkit<2.0.0,>=1.0.3 in /usr/local/lib/python2.7/dist-packages (from ipython>=4.0.0->ipykernel->notebook>=4.2->RISE)\n",
      "Requirement already satisfied (use --upgrade to upgrade): backports.shutil-get-terminal-size; python_version == \"2.7\" in /usr/local/lib/python2.7/dist-packages (from ipython>=4.0.0->ipykernel->notebook>=4.2->RISE)\n",
      "Requirement already satisfied (use --upgrade to upgrade): simplegeneric>0.8 in /usr/local/lib/python2.7/dist-packages (from ipython>=4.0.0->ipykernel->notebook>=4.2->RISE)\n",
      "Requirement already satisfied (use --upgrade to upgrade): pexpect; sys_platform != \"win32\" in /usr/local/lib/python2.7/dist-packages (from ipython>=4.0.0->ipykernel->notebook>=4.2->RISE)\n",
      "Requirement already satisfied (use --upgrade to upgrade): pathlib2; python_version == \"2.7\" or python_version == \"3.3\" in /usr/local/lib/python2.7/dist-packages (from ipython>=4.0.0->ipykernel->notebook>=4.2->RISE)\n",
      "Requirement already satisfied (use --upgrade to upgrade): setuptools>=18.5 in /usr/local/lib/python2.7/dist-packages (from ipython>=4.0.0->ipykernel->notebook>=4.2->RISE)\n",
      "Requirement already satisfied (use --upgrade to upgrade): six in /usr/lib/python2.7/dist-packages (from singledispatch->tornado>=4->notebook>=4.2->RISE)\n",
      "Requirement already satisfied (use --upgrade to upgrade): functools32; python_version == \"2.7\" in /usr/local/lib/python2.7/dist-packages (from jsonschema!=2.5.0,>=2.0->nbformat->notebook>=4.2->RISE)\n",
      "Requirement already satisfied (use --upgrade to upgrade): configparser>=3.5; python_version == \"2.7\" in /usr/local/lib/python2.7/dist-packages (from entrypoints->nbconvert->notebook>=4.2->RISE)\n",
      "Requirement already satisfied (use --upgrade to upgrade): wcwidth in /usr/local/lib/python2.7/dist-packages (from prompt-toolkit<2.0.0,>=1.0.3->ipython>=4.0.0->ipykernel->notebook>=4.2->RISE)\n",
      "Installing /home/fenics/.local/lib/python2.7/site-packages/rise/static -> rise\n",
      "Up to date: /home/fenics/.local/share/jupyter/nbextensions/rise/main.js\n",
      "Up to date: /home/fenics/.local/share/jupyter/nbextensions/rise/reset_reveal.css\n",
      "Up to date: /home/fenics/.local/share/jupyter/nbextensions/rise/main.css\n",
      "Up to date: /home/fenics/.local/share/jupyter/nbextensions/rise/main.orig.css\n",
      "Up to date: /home/fenics/.local/share/jupyter/nbextensions/rise/reveal.js/Gruntfile.js\n",
      "Up to date: /home/fenics/.local/share/jupyter/nbextensions/rise/reveal.js/package.json\n",
      "Up to date: /home/fenics/.local/share/jupyter/nbextensions/rise/reveal.js/README.md\n",
      "Up to date: /home/fenics/.local/share/jupyter/nbextensions/rise/reveal.js/index.html\n",
      "Up to date: /home/fenics/.local/share/jupyter/nbextensions/rise/reveal.js/LICENSE\n",
      "Up to date: /home/fenics/.local/share/jupyter/nbextensions/rise/reveal.js/lib/font/league_gothic-webfont.woff\n",
      "Up to date: /home/fenics/.local/share/jupyter/nbextensions/rise/reveal.js/lib/font/league_gothic-webfont.ttf\n",
      "Up to date: /home/fenics/.local/share/jupyter/nbextensions/rise/reveal.js/lib/font/league_gothic-webfont.eot\n",
      "Up to date: /home/fenics/.local/share/jupyter/nbextensions/rise/reveal.js/lib/font/league_gothic_license\n",
      "Up to date: /home/fenics/.local/share/jupyter/nbextensions/rise/reveal.js/lib/font/league_gothic-webfont.svg\n",
      "Up to date: /home/fenics/.local/share/jupyter/nbextensions/rise/reveal.js/lib/js/head.min.js\n",
      "Up to date: /home/fenics/.local/share/jupyter/nbextensions/rise/reveal.js/lib/js/classList.js\n",
      "Up to date: /home/fenics/.local/share/jupyter/nbextensions/rise/reveal.js/lib/js/html5shiv.js\n",
      "Up to date: /home/fenics/.local/share/jupyter/nbextensions/rise/reveal.js/lib/css/zenburn.css\n",
      "Up to date: /home/fenics/.local/share/jupyter/nbextensions/rise/reveal.js/test/test-markdown-element-attributes.html\n",
      "Up to date: /home/fenics/.local/share/jupyter/nbextensions/rise/reveal.js/test/test.js\n",
      "Up to date: /home/fenics/.local/share/jupyter/nbextensions/rise/reveal.js/test/test-markdown-slide-attributes.js\n",
      "Up to date: /home/fenics/.local/share/jupyter/nbextensions/rise/reveal.js/test/test-markdown.js\n",
      "Up to date: /home/fenics/.local/share/jupyter/nbextensions/rise/reveal.js/test/test-markdown-slide-attributes.html\n",
      "Up to date: /home/fenics/.local/share/jupyter/nbextensions/rise/reveal.js/test/qunit-1.12.0.css\n",
      "Up to date: /home/fenics/.local/share/jupyter/nbextensions/rise/reveal.js/test/qunit-1.12.0.js\n",
      "Up to date: /home/fenics/.local/share/jupyter/nbextensions/rise/reveal.js/test/test.html\n",
      "Up to date: /home/fenics/.local/share/jupyter/nbextensions/rise/reveal.js/test/test-markdown.html\n",
      "Up to date: /home/fenics/.local/share/jupyter/nbextensions/rise/reveal.js/test/test-markdown-element-attributes.js\n",
      "Up to date: /home/fenics/.local/share/jupyter/nbextensions/rise/reveal.js/test/examples/barebones.html\n",
      "Up to date: /home/fenics/.local/share/jupyter/nbextensions/rise/reveal.js/test/examples/math.html\n",
      "Up to date: /home/fenics/.local/share/jupyter/nbextensions/rise/reveal.js/test/examples/slide-backgrounds.html\n",
      "Up to date: /home/fenics/.local/share/jupyter/nbextensions/rise/reveal.js/test/examples/embedded-media.html\n",
      "Up to date: /home/fenics/.local/share/jupyter/nbextensions/rise/reveal.js/test/examples/assets/image2.png\n",
      "Up to date: /home/fenics/.local/share/jupyter/nbextensions/rise/reveal.js/test/examples/assets/image1.png\n",
      "Up to date: /home/fenics/.local/share/jupyter/nbextensions/rise/reveal.js/plugin/search/search.js\n",
      "Up to date: /home/fenics/.local/share/jupyter/nbextensions/rise/reveal.js/plugin/zoom-js/zoom.js\n",
      "Up to date: /home/fenics/.local/share/jupyter/nbextensions/rise/reveal.js/plugin/remotes/remotes.js\n",
      "Up to date: /home/fenics/.local/share/jupyter/nbextensions/rise/reveal.js/plugin/highlight/highlight.js\n",
      "Up to date: /home/fenics/.local/share/jupyter/nbextensions/rise/reveal.js/plugin/multiplex/index.js\n",
      "Up to date: /home/fenics/.local/share/jupyter/nbextensions/rise/reveal.js/plugin/multiplex/master.js\n",
      "Up to date: /home/fenics/.local/share/jupyter/nbextensions/rise/reveal.js/plugin/multiplex/client.js\n",
      "Up to date: /home/fenics/.local/share/jupyter/nbextensions/rise/reveal.js/plugin/markdown/example.md\n",
      "Up to date: /home/fenics/.local/share/jupyter/nbextensions/rise/reveal.js/plugin/markdown/markdown.js\n",
      "Up to date: /home/fenics/.local/share/jupyter/nbextensions/rise/reveal.js/plugin/markdown/marked.js\n",
      "Up to date: /home/fenics/.local/share/jupyter/nbextensions/rise/reveal.js/plugin/markdown/example.html\n",
      "Up to date: /home/fenics/.local/share/jupyter/nbextensions/rise/reveal.js/plugin/leap/leap.js\n",
      "Up to date: /home/fenics/.local/share/jupyter/nbextensions/rise/reveal.js/plugin/notes/notes.js\n",
      "Up to date: /home/fenics/.local/share/jupyter/nbextensions/rise/reveal.js/plugin/notes/notes.html\n",
      "Up to date: /home/fenics/.local/share/jupyter/nbextensions/rise/reveal.js/plugin/postmessage/postmessage.js\n",
      "Up to date: /home/fenics/.local/share/jupyter/nbextensions/rise/reveal.js/plugin/postmessage/example.html\n",
      "Up to date: /home/fenics/.local/share/jupyter/nbextensions/rise/reveal.js/plugin/notes-server/index.js\n",
      "Up to date: /home/fenics/.local/share/jupyter/nbextensions/rise/reveal.js/plugin/notes-server/client.js\n",
      "Up to date: /home/fenics/.local/share/jupyter/nbextensions/rise/reveal.js/plugin/notes-server/notes.html\n",
      "Up to date: /home/fenics/.local/share/jupyter/nbextensions/rise/reveal.js/plugin/print-pdf/print-pdf.js\n",
      "Up to date: /home/fenics/.local/share/jupyter/nbextensions/rise/reveal.js/plugin/math/math.js\n",
      "Up to date: /home/fenics/.local/share/jupyter/nbextensions/rise/reveal.js/js/reveal.js\n",
      "Up to date: /home/fenics/.local/share/jupyter/nbextensions/rise/reveal.js/js/reveal.min.js\n",
      "Up to date: /home/fenics/.local/share/jupyter/nbextensions/rise/reveal.js/css/reveal.css\n",
      "Up to date: /home/fenics/.local/share/jupyter/nbextensions/rise/reveal.js/css/reveal.min.css\n",
      "Up to date: /home/fenics/.local/share/jupyter/nbextensions/rise/reveal.js/css/print/paper.css\n",
      "Up to date: /home/fenics/.local/share/jupyter/nbextensions/rise/reveal.js/css/print/pdf.css\n",
      "Up to date: /home/fenics/.local/share/jupyter/nbextensions/rise/reveal.js/css/theme/moon.css\n",
      "Up to date: /home/fenics/.local/share/jupyter/nbextensions/rise/reveal.js/css/theme/night.css\n",
      "Up to date: /home/fenics/.local/share/jupyter/nbextensions/rise/reveal.js/css/theme/simple.css\n",
      "Up to date: /home/fenics/.local/share/jupyter/nbextensions/rise/reveal.js/css/theme/blood.css\n",
      "Up to date: /home/fenics/.local/share/jupyter/nbextensions/rise/reveal.js/css/theme/beige.css\n",
      "Up to date: /home/fenics/.local/share/jupyter/nbextensions/rise/reveal.js/css/theme/README.md\n",
      "Up to date: /home/fenics/.local/share/jupyter/nbextensions/rise/reveal.js/css/theme/serif.css\n",
      "Up to date: /home/fenics/.local/share/jupyter/nbextensions/rise/reveal.js/css/theme/sky.css\n",
      "Up to date: /home/fenics/.local/share/jupyter/nbextensions/rise/reveal.js/css/theme/solarized.css\n",
      "Up to date: /home/fenics/.local/share/jupyter/nbextensions/rise/reveal.js/css/theme/default.css\n",
      "Up to date: /home/fenics/.local/share/jupyter/nbextensions/rise/reveal.js/css/theme/source/blood.scss\n",
      "Up to date: /home/fenics/.local/share/jupyter/nbextensions/rise/reveal.js/css/theme/source/sky.scss\n",
      "Up to date: /home/fenics/.local/share/jupyter/nbextensions/rise/reveal.js/css/theme/source/solarized.scss\n",
      "Up to date: /home/fenics/.local/share/jupyter/nbextensions/rise/reveal.js/css/theme/source/moon.scss\n",
      "Up to date: /home/fenics/.local/share/jupyter/nbextensions/rise/reveal.js/css/theme/source/night.scss\n",
      "Up to date: /home/fenics/.local/share/jupyter/nbextensions/rise/reveal.js/css/theme/source/simple.scss\n",
      "Up to date: /home/fenics/.local/share/jupyter/nbextensions/rise/reveal.js/css/theme/source/default.scss\n",
      "Up to date: /home/fenics/.local/share/jupyter/nbextensions/rise/reveal.js/css/theme/source/beige.scss\n",
      "Up to date: /home/fenics/.local/share/jupyter/nbextensions/rise/reveal.js/css/theme/source/serif.scss\n",
      "Up to date: /home/fenics/.local/share/jupyter/nbextensions/rise/reveal.js/css/theme/template/theme.scss\n",
      "Up to date: /home/fenics/.local/share/jupyter/nbextensions/rise/reveal.js/css/theme/template/settings.scss\n",
      "Up to date: /home/fenics/.local/share/jupyter/nbextensions/rise/reveal.js/css/theme/template/mixins.scss\n",
      "- Validating: \u001b[32mOK\u001b[0m\n",
      "\n",
      "    To initialize this nbextension in the browser every time the notebook (or other app) loads:\n",
      "    \n",
      "          jupyter nbextension enable rise --user --py\n",
      "    \n",
      "Enabling notebook extension rise/main...\n",
      "      - Validating: \u001b[32mOK\u001b[0m\n"
     ]
    }
   ],
   "source": [
    "!pip install RISE --user\n",
    "!jupyter nbextension install rise --py --user\n",
    "!jupyter nbextension enable rise --py --user"
   ]
  }
 ],
 "metadata": {
  "celltoolbar": "Slideshow",
  "kernelspec": {
   "display_name": "Python 2",
   "language": "python",
   "name": "python2"
  },
  "language_info": {
   "codemirror_mode": {
    "name": "ipython",
    "version": 2
   },
   "file_extension": ".py",
   "mimetype": "text/x-python",
   "name": "python",
   "nbconvert_exporter": "python",
   "pygments_lexer": "ipython2",
   "version": "2.7.12"
  },
  "livereveal": {
   "scroll": true,
   "start_slideshow_at": "selected",
   "theme": "serif"
  }
 },
 "nbformat": 4,
 "nbformat_minor": 1
}
