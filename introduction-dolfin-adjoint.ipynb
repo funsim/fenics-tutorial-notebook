{
 "cells": [
  {
   "cell_type": "code",
   "execution_count": 1,
   "metadata": {
    "collapsed": true,
    "slideshow": {
     "slide_type": "skip"
    }
   },
   "outputs": [],
   "source": [
    "%matplotlib inline"
   ]
  },
  {
   "cell_type": "markdown",
   "metadata": {
    "slideshow": {
     "slide_type": "slide"
    }
   },
   "source": [
    "\n",
    "<center>\n",
    "<h1>Sensitivity analysis and optimization with dolfin-adjoint</h1>\n",
    "<br/>\n",
    "<img src='da-logo.png' alt='Scaling test'  width='200'>\n",
    "\n",
    "<br/>\n",
    "<h3>Simon Funke</h3>\n",
    "<h4>Slides: https://goo.gl/W8J51i</h4>\n",
    "<br/>\n",
    "13th October 2016, UNISA Symposium\n",
    "<br/>\n",
    "<br/>\n",
    "Contributors: Patrick Farrell, Marie Rognes\n",
    "</center>"
   ]
  },
  {
   "cell_type": "markdown",
   "metadata": {
    "slideshow": {
     "slide_type": "subslide"
    }
   },
   "source": [
    "## Sensitivity analysis\n",
    "\n",
    "\n",
    "**Given:** \n",
    "\n",
    "* A PDE with some parameter(s).\n",
    "\n",
    "* A (scalar) output derived from the solution."
   ]
  },
  {
   "cell_type": "markdown",
   "metadata": {
    "slideshow": {
     "slide_type": "fragment"
    }
   },
   "source": [
    "**Goal:**\n",
    "\n",
    "* Compute the sensitivity of the outout with respect to the parameters."
   ]
  },
  {
   "cell_type": "markdown",
   "metadata": {
    "slideshow": {
     "slide_type": "subslide"
    }
   },
   "source": [
    "## Why adjoints are useful\n",
    "\n",
    "The solution of the adjoint PDE allows us to evaluate the sensitivity with **arbitrary** parameters"
   ]
  },
  {
   "cell_type": "markdown",
   "metadata": {
    "slideshow": {
     "slide_type": "fragment"
    }
   },
   "source": [
    "-- at a **fixed cost**!"
   ]
  },
  {
   "cell_type": "markdown",
   "metadata": {
    "slideshow": {
     "slide_type": "subslide"
    }
   },
   "source": [
    "## In maths\n",
    "\n",
    "**Given:** \n",
    "\n",
    "* PDE $F(u; m) = 0$ with solution $u$ and parameter $m$.\n",
    "\n",
    "* A functional $J(u, m)$"
   ]
  },
  {
   "cell_type": "markdown",
   "metadata": {
    "slideshow": {
     "slide_type": "fragment"
    }
   },
   "source": [
    "**What the adjoint approach gives us:**\n",
    "\n",
    "* Efficiently compute $\\frac{\\text{d}J}{\\text{dm}}$ for any $m$."
   ]
  },
  {
   "cell_type": "markdown",
   "metadata": {
    "slideshow": {
     "slide_type": "subslide"
    }
   },
   "source": [
    "## What is an adjoint \n",
    "\n",
    "Given a PDE and a functional, the adjoint is \n",
    "\n",
    "* a linear PDE derived from the original (\"forward) system.\n",
    "* which depends on the forward solution u and the functional J,\n",
    "* that in general is quite hard to derive\n",
    "* and is useful for lots of things in computational science."
   ]
  },
  {
   "cell_type": "markdown",
   "metadata": {
    "slideshow": {
     "slide_type": "subslide"
    }
   },
   "source": [
    "## Adjoints are used in many applications\n",
    "\n",
    "<center>\n",
    "<img src='conceptmap-greyed.svg'  width='1024'>\n",
    "</center>"
   ]
  },
  {
   "cell_type": "markdown",
   "metadata": {
    "slideshow": {
     "slide_type": "subslide"
    }
   },
   "source": [
    "## The problem\n",
    "\n",
    "*[T]he automatic generation of optimal (in terms of robustness and efficiency) adjoint versions of large-scale simulation code is one of the great open challenges in the field of High-Performance Scientific Computing.*\n",
    "\n",
    "\"The Art of Differentiating Computer Programs\", Naumann (2011)\n"
   ]
  },
  {
   "cell_type": "markdown",
   "metadata": {
    "slideshow": {
     "slide_type": "fragment"
    }
   },
   "source": [
    "*Considering the importance of design to .. all of engineering, it is\n",
    "perhaps surprising that the development of adjoint codes has not\n",
    "been more rapid .. [I]t seems likely that part of the reason is its\n",
    "complexity.*\n",
    "\n",
    "\"An Introduction to the Adjoint Approach to Design\" (Giles and Pierce, 2000)"
   ]
  },
  {
   "cell_type": "markdown",
   "metadata": {
    "slideshow": {
     "slide_type": "subslide"
    }
   },
   "source": [
    "## The traditional way of computing adjoints\n",
    "\n",
    "<center>\n",
    "<img src='ad_old.png'  width='800'>\n",
    "</center>"
   ]
  },
  {
   "cell_type": "markdown",
   "metadata": {
    "slideshow": {
     "slide_type": "fragment"
    }
   },
   "source": [
    "### Fundamental idea\n",
    "\n",
    "A model is a sequence of elementary instructions. Differentiate each in turn, and\n",
    "compose with the chain rule."
   ]
  },
  {
   "cell_type": "markdown",
   "metadata": {
    "slideshow": {
     "slide_type": "subslide"
    }
   },
   "source": [
    "## The dolfin-adjoint approach\n",
    "\n",
    "<center>\n",
    "<img src='ad_new.png'  width='800'>\n",
    "</center>"
   ]
  },
  {
   "cell_type": "markdown",
   "metadata": {
    "slideshow": {
     "slide_type": "fragment"
    }
   },
   "source": [
    "### Fundamental idea\n",
    "A model is a sequence of equation solves. Differentiate each in turn, and\n",
    "compose with the chain rule. "
   ]
  },
  {
   "cell_type": "markdown",
   "metadata": {
    "slideshow": {
     "slide_type": "subslide"
    }
   },
   "source": [
    "# dolfin-adjoint automates adjoints and PDE-constrained optimization*\n",
    "\n",
    "<center>\n",
    "<img src='da1.png'  width='1024'>\n",
    "</center>\n",
    "\n",
    "*for FEniCS models"
   ]
  },
  {
   "cell_type": "markdown",
   "metadata": {
    "slideshow": {
     "slide_type": "subslide"
    }
   },
   "source": [
    "## dolfin-adjoint annotates the symbolic equation of the PDE constraint\n",
    "<center>\n",
    "<img src='da2.png'  width='1024'>\n",
    "</center>"
   ]
  },
  {
   "cell_type": "markdown",
   "metadata": {
    "slideshow": {
     "slide_type": "subslide"
    }
   },
   "source": [
    "## dolfin-adjoint automatically derives the symbolic adjoint equations\n",
    "<center>\n",
    "<img src='da3.png'  width='1024'>\n",
    "</center>"
   ]
  },
  {
   "cell_type": "markdown",
   "metadata": {
    "slideshow": {
     "slide_type": "subslide"
    }
   },
   "source": [
    "## dolfin-adjoint solves forward/adjoint problems until the optimal solution is found\n",
    "<center>\n",
    "<img src='da4.png'  width='1024'>\n",
    "</center>"
   ]
  },
  {
   "cell_type": "markdown",
   "metadata": {
    "slideshow": {
     "slide_type": "subslide"
    }
   },
   "source": [
    "## Advantages of the dolfin-adjoint approach\n",
    "\n",
    "* The adjoint derivation is **totally automatic** (∼3–10 lines)\n",
    "* The adjoint is **very efficient** (examples later)\n",
    "* The adjoint can automatically use **checkpointing**\n",
    "* The adjoint works **naturally in parallel** (both MPI and OpenMP)"
   ]
  },
  {
   "cell_type": "markdown",
   "metadata": {
    "slideshow": {
     "slide_type": "fragment"
    }
   },
   "source": [
    "Why does it run in parallel?"
   ]
  },
  {
   "cell_type": "markdown",
   "metadata": {
    "slideshow": {
     "slide_type": "subslide"
    }
   },
   "source": [
    "## The FEniCS pipeline is employed both for the forward and the adjoint problem \n",
    "<center>\n",
    "<img src='parallel_adjoint.png'  width='800'>\n",
    "</center>"
   ]
  },
  {
   "cell_type": "markdown",
   "metadata": {
    "slideshow": {
     "slide_type": "slide"
    }
   },
   "source": [
    "# Live demo"
   ]
  },
  {
   "cell_type": "markdown",
   "metadata": {
    "slideshow": {
     "slide_type": "subslide"
    }
   },
   "source": [
    "## Imagine with given have a FEniCS solver\n",
    "\n",
    "It does not really matter which one. For example a heat-equation solver:"
   ]
  },
  {
   "cell_type": "code",
   "execution_count": 7,
   "metadata": {
    "collapsed": false,
    "slideshow": {
     "slide_type": "fragment"
    }
   },
   "outputs": [
    {
     "data": {
      "text/plain": [
       "<matplotlib.collections.PolyCollection at 0x7f16839dafd0>"
      ]
     },
     "execution_count": 7,
     "metadata": {},
     "output_type": "execute_result"
    },
    {
     "data": {
      "image/png": "[encoded data removed]",
      "text/plain": [
       "<matplotlib.figure.Figure at 0x7f1683a4ee10>"
      ]
     },
     "metadata": {},
     "output_type": "display_data"
    }
   ],
   "source": [
    "from dolfin import *\n",
    "from dolfin_adjoint import *\n",
    "#adj_reset()\n",
    "\n",
    "mesh = UnitSquareMesh(40, 40)\n",
    "V = FunctionSpace(mesh, \"CG\", 2)\n",
    "\n",
    "v = TestFunction(V)# Testfunction \n",
    "u_ = Function(V)   # Old u\n",
    "u = Function(V)    # New u\n",
    "f = Function(V)    # Forcing term\n",
    "f.vector()[:] = 1\n",
    "nu = Function(V)   # Viscosity\n",
    "nu.vector()[:] = 0.001\n",
    "\n",
    "t = 0.0\n",
    "end = 20\n",
    "timestep = Constant(1)\n",
    "\n",
    "# Variational form\n",
    "F = (u - u_)/timestep*v*dx + nu*inner(grad(u), grad(v))*dx - f*v*dx\n",
    "bc = DirichletBC(V, 0.0, \"on_boundary\")\n",
    "\n",
    "# Time loop\n",
    "while (t <= end):\n",
    "    solve(F == 0, u, bc)\n",
    "    u_.assign(u)\n",
    "    t += float(timestep)\n",
    "plot(u)"
   ]
  },
  {
   "cell_type": "markdown",
   "metadata": {
    "slideshow": {
     "slide_type": "subslide"
    }
   },
   "source": [
    "## In order to use dolfin-adjoint, we need to make change one line\n",
    "\n",
    "On the second line:\n",
    "```python\n",
    "from dolfin_adjoint import *\n",
    "```\n",
    "With that change, dolfin-adjoint will record all equations that are being solved."
   ]
  },
  {
   "cell_type": "markdown",
   "metadata": {
    "slideshow": {
     "slide_type": "fragment"
    }
   },
   "source": [
    "Now we can compute the define the functional. Let's say we are interested in:\n",
    "\n",
    "$J = \\frac{1}{2}\\int_\\Omega u(T) \\cdot u(T) \\textrm{d}x +\\frac{1}{2}\\int_\\Omega f^2 \\textrm{d}x$ "
   ]
  },
  {
   "cell_type": "markdown",
   "metadata": {
    "slideshow": {
     "slide_type": "fragment"
    }
   },
   "source": [
    "In code:"
   ]
  },
  {
   "cell_type": "code",
   "execution_count": 11,
   "metadata": {
    "collapsed": false
   },
   "outputs": [],
   "source": [
    "J = Functional(u*u*dx*dt[FINISH_TIME] + f**2*dx*dt[START_TIME])"
   ]
  },
  {
   "cell_type": "markdown",
   "metadata": {
    "slideshow": {
     "slide_type": "subslide"
    }
   },
   "source": [
    "## Now we can compute sensitivities\n",
    "\n",
    "For example with respect to $f$:"
   ]
  },
  {
   "cell_type": "code",
   "execution_count": 13,
   "metadata": {
    "collapsed": true
   },
   "outputs": [
    {
     "data": {
      "text/plain": [
       "<matplotlib.collections.PolyCollection at 0x7f16822bc3d0>"
      ]
     },
     "execution_count": 13,
     "metadata": {},
     "output_type": "execute_result"
    },
    {
     "data": {
      "image/png": "[encoded data removed]",
      "text/plain": [
       "<matplotlib.figure.Figure at 0x7f16823caa90>"
      ]
     },
     "metadata": {},
     "output_type": "display_data"
    }
   ],
   "source": [
    "ctrl = Control(f)\n",
    "\n",
    "dJdf = compute_gradient(J, ctrl, forget=False, project=True)\n",
    "plot(dJdf)"
   ]
  },
  {
   "cell_type": "markdown",
   "metadata": {
    "slideshow": {
     "slide_type": "subslide"
    }
   },
   "source": [
    "## or with respect to more parameters\n",
    "\n",
    "(at nearly no additional cost)"
   ]
  },
  {
   "cell_type": "code",
   "execution_count": 14,
   "metadata": {
    "collapsed": true
   },
   "outputs": [
    {
     "data": {
      "text/plain": [
       "<matplotlib.collections.PolyCollection at 0x7f1681fba710>"
      ]
     },
     "execution_count": 14,
     "metadata": {},
     "output_type": "execute_result"
    },
    {
     "data": {
      "image/png": "[encoded data removed]",
      "text/plain": [
       "<matplotlib.figure.Figure at 0x7f1684093310>"
      ]
     },
     "metadata": {},
     "output_type": "display_data"
    }
   ],
   "source": [
    "ctrl = [Control(f), Control(nu)]\n",
    "\n",
    "dJdf, dJdnu = compute_gradient(J, ctrl, forget=False, project=True)\n",
    "plot(dJdnu)"
   ]
  },
  {
   "cell_type": "markdown",
   "metadata": {
    "slideshow": {
     "slide_type": "subslide"
    }
   },
   "source": [
    "## Or even solve an optimisation problem!"
   ]
  },
  {
   "cell_type": "code",
   "execution_count": 15,
   "metadata": {
    "collapsed": true
   },
   "outputs": [
    {
     "name": "stdout",
     "output_type": "stream",
     "text": [
      "Calling FFC just-in-time (JIT) compiler, this may take some time.\n"
     ]
    },
    {
     "data": {
      "text/plain": [
       "<matplotlib.collections.PolyCollection at 0x7f167c89acd0>"
      ]
     },
     "execution_count": 15,
     "metadata": {},
     "output_type": "execute_result"
    },
    {
     "data": {
      "image/png": "[encoded data removed]",
      "text/plain": [
       "<matplotlib.figure.Figure at 0x7f1682454490>"
      ]
     },
     "metadata": {},
     "output_type": "display_data"
    }
   ],
   "source": [
    "rf = ReducedFunctional(J, Control(nu))\n",
    "nu_opt = minimize(rf, options={\"maxiter\": 4})\n",
    "plot(nu_opt)"
   ]
  },
  {
   "cell_type": "markdown",
   "metadata": {
    "slideshow": {
     "slide_type": "skip"
    }
   },
   "source": [
    "## Some important dolfin-adjoint functions\n",
    "\n",
    "\n",
    "### Functionals\n",
    "*Mathematics*: \n",
    "\n",
    "$J = \\frac{1}{2}\\int_\\Omega u(T) \\cdot u(T) \\textrm{d}x$\n",
    "\n",
    "*Code*:\n",
    "```python \n",
    "J = Functional(0.5*inner(u, u)*dx*dt[FINISH TIME])\n",
    "```"
   ]
  },
  {
   "cell_type": "markdown",
   "metadata": {
    "slideshow": {
     "slide_type": "skip"
    }
   },
   "source": [
    "*Mathematics*:  \n",
    "\n",
    "$J = \\frac{1}{2}\\int_0^T\\int_\\Omega u \\cdot u \\textrm{d}x\\text{d}t$\n",
    "\n",
    "*Code*:\n",
    "```python \n",
    "J = Functional(0.5*inner(u, u)*dx*dt)\n",
    "```"
   ]
  },
  {
   "cell_type": "markdown",
   "metadata": {
    "slideshow": {
     "slide_type": "skip"
    }
   },
   "source": [
    "## Some important dolfin-adjoint functions\n",
    "\n",
    "\n",
    "### Controls\n",
    "```python\n",
    "ctrl = Control(f)\n",
    "ctrl = [Control(f), Control(g)]\n",
    "```"
   ]
  },
  {
   "cell_type": "markdown",
   "metadata": {
    "slideshow": {
     "slide_type": "skip"
    }
   },
   "source": [
    "### Compute sensitivity\n",
    "```python\n",
    "dJdf = compute_gradient(J, ctrl)\n",
    "H = compute_hessian(J, ctrl)\n",
    "```"
   ]
  },
  {
   "cell_type": "markdown",
   "metadata": {
    "slideshow": {
     "slide_type": "skip"
    }
   },
   "source": [
    "### Solve optimization problem\n",
    "```python\n",
    "rf = ReducedFunctional(J, ctrl)\n",
    "f_opt = minimize(rf)\n",
    "```"
   ]
  },
  {
   "cell_type": "markdown",
   "metadata": {
    "slideshow": {
     "slide_type": "slide"
    }
   },
   "source": [
    "# Some application examples"
   ]
  },
  {
   "cell_type": "markdown",
   "metadata": {
    "slideshow": {
     "slide_type": "subslide"
    }
   },
   "source": [
    "## Cahn-Hilliard equations\n",
    "\n",
    "<center>\n",
    "<img src='cahn.png'  width='600'>\n",
    "</center>\n",
    "\n",
    "Quite a difficult problem to adjoint:\n",
    "* nonlinear, time-dependent, fourth-order equation\n",
    "* run in parallel (8 processors, MPI)\n",
    "* checkpointing necessary (5 in memory, 10 on disk)"
   ]
  },
  {
   "cell_type": "markdown",
   "metadata": {
    "slideshow": {
     "slide_type": "subslide"
    }
   },
   "source": [
    "## Willmore functional\n",
    "\n",
    "\\begin{align*}\n",
    "W(u(t)) &= \\frac{1}{4\\epsilon} \\int_{\\Omega} \\left(\\epsilon \\nabla^2 u(t=T) - \\frac{1}{\\epsilon} \\frac{df}{dc}\\right)^2 \\ {dx}\n",
    "\\end{align*}"
   ]
  },
  {
   "cell_type": "markdown",
   "metadata": {
    "slideshow": {
     "slide_type": "subslide"
    }
   },
   "source": [
    "## dolfin-adjoint computes the gradient efficiently\n",
    "\n",
    "<center>\n",
    "<img src='cahn_timings.png'  width='1024'>\n",
    "</center>"
   ]
  },
  {
   "cell_type": "markdown",
   "metadata": {
    "slideshow": {
     "slide_type": "subslide"
    }
   },
   "source": [
    "## Topology optimisation of a heat conduction problem"
   ]
  },
  {
   "cell_type": "markdown",
   "metadata": {
    "slideshow": {
     "slide_type": "-"
    }
   },
   "source": [
    "Problem: Find the material distribution that minimises the integral of the temperature when the amount of highly conducting material is limited.\n",
    "\n",
    "\n",
    "<center>\n",
    "<img src='heatsink.png'  width='1024'>\n",
    "</center>"
   ]
  },
  {
   "cell_type": "markdown",
   "metadata": {
    "slideshow": {
     "slide_type": "subslide"
    }
   },
   "source": [
    "## Formulation as an optimisation problem\n",
    "\n",
    "\n",
    "\\begin{equation*}\n",
    "min_{a} \\int_{\\Omega} fT + \\alpha \\int_{\\Omega} \\nabla a \\cdot \\nabla a\n",
    "\\end{equation*}\n",
    "\n",
    "subject to\n",
    "\n",
    "\\begin{align*}\n",
    "      -\\mathrm{div}(k(a) \\nabla T) &= f  \\qquad \\mathrm{in} \\ \\Omega           \\\\\n",
    "                        T &= 0  \\qquad \\mathrm{on} \\ \\delta \\Omega_D  \\\\\n",
    "          (k(a) \\nabla T) &= 0  \\qquad \\mathrm{on} \\ \\delta \\Omega_N  \\\\\n",
    "\\end{align*}          \n",
    "\n",
    "and to the control constraints\n",
    "\n",
    "\\begin{align*}\n",
    "         0 \\le a(x) &\\le 1  \\qquad \\forall x \\in \\Omega \\\\\n",
    "         \\int_{\\Omega} a &\\le V\n",
    "\\end{align*}  \n",
    "Implementation consists of 65 lines of code (including IO)"
   ]
  },
  {
   "cell_type": "markdown",
   "metadata": {
    "slideshow": {
     "slide_type": "subslide"
    }
   },
   "source": [
    "### 2D Solution\n",
    "<center>\n",
    "<img src='poisson-topology.png' alt='Scaling test'  width='600'>\n",
    "</center>"
   ]
  },
  {
   "cell_type": "markdown",
   "metadata": {
    "slideshow": {
     "slide_type": "subslide"
    }
   },
   "source": [
    "### 3D Solution\n",
    "<img src='poisson-topology-3d.png' alt='Scaling test'  width='1024'>"
   ]
  },
  {
   "cell_type": "markdown",
   "metadata": {
    "slideshow": {
     "slide_type": "subslide"
    }
   },
   "source": [
    "## OpenTidalFarm - Optimal tuning of tidal turbine farms\n",
    "\n",
    "* Optimisation of number of turbines, their location and their size \n",
    "* Based on a shallow water solver in FEniCs + dolfin-adjoint\n",
    "\n",
    "<center>\n",
    "<img src='graphical_highlight_high_res.png' alt='Scaling test'  width='800'>\n",
    "www.opentidalfarm.org\n",
    "</center>"
   ]
  },
  {
   "cell_type": "markdown",
   "metadata": {
    "slideshow": {
     "slide_type": "subslide"
    }
   },
   "source": [
    "## CBC-beat - cardiac electriophiosology with an adjoint\n",
    "\n",
    "* Implements the mono-domain and bi-domain solvers with various cell models (coupled PDE-ODE system)\n",
    "* Implemented in FEniCS + Gortran (cell model generator for FEniCS) + dolfin-adjoint\n",
    "<center>\n",
    "<img src='cbcbeat.png' alt='Scaling test'  width='800'>\n",
    "</center>"
   ]
  },
  {
   "cell_type": "markdown",
   "metadata": {
    "slideshow": {
     "slide_type": "subslide"
    }
   },
   "source": [
    "# Data assimilation of blood flow models\n",
    "\n",
    "**Given MRI flow measurements, can we tune a blood flow model?**\n",
    "\n",
    "* Implements Navier-Stokes in FEniCS + dolfin-adjoint\n",
    "* Requires carefull design of regularisation terms\n",
    "<center>\n",
    "<img src='bloodflow.png' alt='Scaling test'  width='600'></center>"
   ]
  },
  {
   "cell_type": "markdown",
   "metadata": {
    "slideshow": {
     "slide_type": "subslide"
    }
   },
   "source": [
    "## Multimesh support in FEniCs (Outlook)\n",
    "<center>\n",
    "<img src='propeller_body_fitted.svg' alt='Scaling test'  width='600'>\n",
    "</center>"
   ]
  },
  {
   "cell_type": "markdown",
   "metadata": {
    "slideshow": {
     "slide_type": "subslide"
    }
   },
   "source": [
    "## Multimesh support in FEniCs (Outlook)\n",
    "<center>\n",
    "<img src='multi_propeller_body_fitted.svg' alt='Scaling test'  width='600'>\n",
    "</center>"
   ]
  },
  {
   "cell_type": "markdown",
   "metadata": {
    "slideshow": {
     "slide_type": "subslide"
    }
   },
   "source": [
    "## Multimesh support in FEniCs (Outlook)"
   ]
  },
  {
   "cell_type": "code",
   "execution_count": 22,
   "metadata": {
    "collapsed": false,
    "slideshow": {
     "slide_type": "-"
    }
   },
   "outputs": [
    {
     "data": {
      "image/jpeg": "[encoded data removed]",
      "text/html": [
       "\n",
       "        <iframe\n",
       "            width=\"400\"\n",
       "            height=\"300\"\n",
       "            src=\"https://www.youtube.com/embed/wbdN0_9P6Hw\"\n",
       "            frameborder=\"0\"\n",
       "            allowfullscreen\n",
       "        ></iframe>\n",
       "        "
      ],
      "text/plain": [
       "<IPython.lib.display.YouTubeVideo at 0x7f96f7454910>"
      ]
     },
     "execution_count": 22,
     "metadata": {},
     "output_type": "execute_result"
    }
   ],
   "source": [
    "from IPython.display import YouTubeVideo\n",
    "YouTubeVideo(\"wbdN0_9P6Hw\")"
   ]
  },
  {
   "cell_type": "markdown",
   "metadata": {
    "slideshow": {
     "slide_type": "subslide"
    }
   },
   "source": [
    "## Computing sensitivities\n",
    "\n",
    "Here, with respect to the initial condition:\n",
    "<center>\n",
    "<img src='turbine_dJdinit.jpg' alt='Scaling test'  width='800'>\n",
    "</center>\n"
   ]
  },
  {
   "cell_type": "markdown",
   "metadata": {
    "slideshow": {
     "slide_type": "slide"
    }
   },
   "source": [
    "## Conclusion\n",
    "\n",
    "\n",
    "*dolfin-adjoint* automates adjoints for FEniCS models. \n",
    "\n",
    "You can use it for:\n",
    "* Sensitivity analysis\n",
    "* PDE-constrained optimisation\n",
    "* Stability analysis\n",
    "* ...\n",
    "\n",
    "www.dolfin-adjoint.org\n"
   ]
  }
 ],
 "metadata": {
  "celltoolbar": "Slideshow",
  "kernelspec": {
   "display_name": "Python 2",
   "language": "python",
   "name": "python2"
  },
  "language_info": {
   "codemirror_mode": {
    "name": "ipython",
    "version": 2
   },
   "file_extension": ".py",
   "mimetype": "text/x-python",
   "name": "python",
   "nbconvert_exporter": "python",
   "pygments_lexer": "ipython2",
   "version": "2.7.11+"
  },
  "livereveal": {
   "scroll": true,
   "start_slideshow_at": "selected",
   "theme": "serif"
  }
 },
 "nbformat": 4,
 "nbformat_minor": 1
}
